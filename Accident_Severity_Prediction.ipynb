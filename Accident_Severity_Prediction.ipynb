{
  "nbformat": 4,
  "nbformat_minor": 0,
  "metadata": {
    "kernelspec": {
      "display_name": "Python 3",
      "language": "python",
      "name": "python3"
    },
    "language_info": {
      "codemirror_mode": {
        "name": "ipython",
        "version": 3
      },
      "file_extension": ".py",
      "mimetype": "text/x-python",
      "name": "python",
      "nbconvert_exporter": "python",
      "pygments_lexer": "ipython3",
      "version": "3.7.0"
    },
    "colab": {
      "name": "Accident_Severity_Prediction.ipynb",
      "provenance": [],
      "include_colab_link": true
    }
  },
  "cells": [
    {
      "cell_type": "markdown",
      "metadata": {
        "id": "view-in-github",
        "colab_type": "text"
      },
      "source": [
        "<a href=\"https://colab.research.google.com/github/HarshaLokesh/Machine_learning_for_intelligent_vehicles/blob/main/Accident_Severity_Prediction.ipynb\" target=\"_parent\"><img src=\"https://colab.research.google.com/assets/colab-badge.svg\" alt=\"Open In Colab\"/></a>"
      ]
    },
    {
      "cell_type": "code",
      "metadata": {
        "colab": {
          "base_uri": "https://localhost:8080/"
        },
        "id": "EQB6RwdJg0bK",
        "outputId": "f06b9c7f-2a5f-447b-8eac-1151dd622ecd"
      },
      "source": [
        "from google.colab import drive\n",
        "drive.mount ('/content/drive')"
      ],
      "execution_count": null,
      "outputs": [
        {
          "output_type": "stream",
          "name": "stdout",
          "text": [
            "Mounted at /content/drive\n"
          ]
        }
      ]
    },
    {
      "cell_type": "code",
      "metadata": {
        "id": "B8qUSLTIdJuW"
      },
      "source": [
        "import pandas as pd\n",
        "import numpy as np\n",
        "from sklearn import metrics\n",
        "from sklearn.metrics import classification_report, confusion_matrix  \n"
      ],
      "execution_count": null,
      "outputs": []
    },
    {
      "cell_type": "code",
      "metadata": {
        "id": "hd8dC1c8h0TQ",
        "colab": {
          "base_uri": "https://localhost:8080/",
          "height": 281
        },
        "outputId": "843f8b12-d18e-4e21-b6eb-0ae9e595ddc5"
      },
      "source": [
        "df = pd.read_csv(\"/content/drive/MyDrive/WASN/Accident_Information.csv\")\n",
        "print(f'Accident_Information.csv : {df.shape}')\n",
        "df.head(3)\n"
      ],
      "execution_count": null,
      "outputs": [
        {
          "output_type": "stream",
          "name": "stderr",
          "text": [
            "/usr/local/lib/python3.7/dist-packages/IPython/core/interactiveshell.py:2718: DtypeWarning: Columns (0) have mixed types.Specify dtype option on import or set low_memory=False.\n",
            "  interactivity=interactivity, compiler=compiler, result=result)\n"
          ]
        },
        {
          "output_type": "stream",
          "name": "stdout",
          "text": [
            "Accident_Information.csv : (2047256, 34)\n"
          ]
        },
        {
          "output_type": "execute_result",
          "data": {
            "text/html": [
              "<div>\n",
              "<style scoped>\n",
              "    .dataframe tbody tr th:only-of-type {\n",
              "        vertical-align: middle;\n",
              "    }\n",
              "\n",
              "    .dataframe tbody tr th {\n",
              "        vertical-align: top;\n",
              "    }\n",
              "\n",
              "    .dataframe thead th {\n",
              "        text-align: right;\n",
              "    }\n",
              "</style>\n",
              "<table border=\"1\" class=\"dataframe\">\n",
              "  <thead>\n",
              "    <tr style=\"text-align: right;\">\n",
              "      <th></th>\n",
              "      <th>Accident_Index</th>\n",
              "      <th>1st_Road_Class</th>\n",
              "      <th>1st_Road_Number</th>\n",
              "      <th>2nd_Road_Class</th>\n",
              "      <th>2nd_Road_Number</th>\n",
              "      <th>Accident_Severity</th>\n",
              "      <th>Carriageway_Hazards</th>\n",
              "      <th>Date</th>\n",
              "      <th>Day_of_Week</th>\n",
              "      <th>Did_Police_Officer_Attend_Scene_of_Accident</th>\n",
              "      <th>Junction_Control</th>\n",
              "      <th>Junction_Detail</th>\n",
              "      <th>Latitude</th>\n",
              "      <th>Light_Conditions</th>\n",
              "      <th>Local_Authority_(District)</th>\n",
              "      <th>Local_Authority_(Highway)</th>\n",
              "      <th>Location_Easting_OSGR</th>\n",
              "      <th>Location_Northing_OSGR</th>\n",
              "      <th>Longitude</th>\n",
              "      <th>LSOA_of_Accident_Location</th>\n",
              "      <th>Number_of_Casualties</th>\n",
              "      <th>Number_of_Vehicles</th>\n",
              "      <th>Pedestrian_Crossing-Human_Control</th>\n",
              "      <th>Pedestrian_Crossing-Physical_Facilities</th>\n",
              "      <th>Police_Force</th>\n",
              "      <th>Road_Surface_Conditions</th>\n",
              "      <th>Road_Type</th>\n",
              "      <th>Special_Conditions_at_Site</th>\n",
              "      <th>Speed_limit</th>\n",
              "      <th>Time</th>\n",
              "      <th>Urban_or_Rural_Area</th>\n",
              "      <th>Weather_Conditions</th>\n",
              "      <th>Year</th>\n",
              "      <th>InScotland</th>\n",
              "    </tr>\n",
              "  </thead>\n",
              "  <tbody>\n",
              "    <tr>\n",
              "      <th>0</th>\n",
              "      <td>200501BS00001</td>\n",
              "      <td>A</td>\n",
              "      <td>3218.0</td>\n",
              "      <td>NaN</td>\n",
              "      <td>0.0</td>\n",
              "      <td>Serious</td>\n",
              "      <td>None</td>\n",
              "      <td>2005-01-04</td>\n",
              "      <td>Tuesday</td>\n",
              "      <td>1.0</td>\n",
              "      <td>Data missing or out of range</td>\n",
              "      <td>Not at junction or within 20 metres</td>\n",
              "      <td>51.489096</td>\n",
              "      <td>Daylight</td>\n",
              "      <td>Kensington and Chelsea</td>\n",
              "      <td>Kensington and Chelsea</td>\n",
              "      <td>525680.0</td>\n",
              "      <td>178240.0</td>\n",
              "      <td>-0.191170</td>\n",
              "      <td>E01002849</td>\n",
              "      <td>1</td>\n",
              "      <td>1</td>\n",
              "      <td>0.0</td>\n",
              "      <td>1.0</td>\n",
              "      <td>Metropolitan Police</td>\n",
              "      <td>Wet or damp</td>\n",
              "      <td>Single carriageway</td>\n",
              "      <td>None</td>\n",
              "      <td>30.0</td>\n",
              "      <td>17:42</td>\n",
              "      <td>Urban</td>\n",
              "      <td>Raining no high winds</td>\n",
              "      <td>2005</td>\n",
              "      <td>No</td>\n",
              "    </tr>\n",
              "    <tr>\n",
              "      <th>1</th>\n",
              "      <td>200501BS00002</td>\n",
              "      <td>B</td>\n",
              "      <td>450.0</td>\n",
              "      <td>C</td>\n",
              "      <td>0.0</td>\n",
              "      <td>Slight</td>\n",
              "      <td>None</td>\n",
              "      <td>2005-01-05</td>\n",
              "      <td>Wednesday</td>\n",
              "      <td>1.0</td>\n",
              "      <td>Auto traffic signal</td>\n",
              "      <td>Crossroads</td>\n",
              "      <td>51.520075</td>\n",
              "      <td>Darkness - lights lit</td>\n",
              "      <td>Kensington and Chelsea</td>\n",
              "      <td>Kensington and Chelsea</td>\n",
              "      <td>524170.0</td>\n",
              "      <td>181650.0</td>\n",
              "      <td>-0.211708</td>\n",
              "      <td>E01002909</td>\n",
              "      <td>1</td>\n",
              "      <td>1</td>\n",
              "      <td>0.0</td>\n",
              "      <td>5.0</td>\n",
              "      <td>Metropolitan Police</td>\n",
              "      <td>Dry</td>\n",
              "      <td>Dual carriageway</td>\n",
              "      <td>None</td>\n",
              "      <td>30.0</td>\n",
              "      <td>17:36</td>\n",
              "      <td>Urban</td>\n",
              "      <td>Fine no high winds</td>\n",
              "      <td>2005</td>\n",
              "      <td>No</td>\n",
              "    </tr>\n",
              "    <tr>\n",
              "      <th>2</th>\n",
              "      <td>200501BS00003</td>\n",
              "      <td>C</td>\n",
              "      <td>0.0</td>\n",
              "      <td>NaN</td>\n",
              "      <td>0.0</td>\n",
              "      <td>Slight</td>\n",
              "      <td>None</td>\n",
              "      <td>2005-01-06</td>\n",
              "      <td>Thursday</td>\n",
              "      <td>1.0</td>\n",
              "      <td>Data missing or out of range</td>\n",
              "      <td>Not at junction or within 20 metres</td>\n",
              "      <td>51.525301</td>\n",
              "      <td>Darkness - lights lit</td>\n",
              "      <td>Kensington and Chelsea</td>\n",
              "      <td>Kensington and Chelsea</td>\n",
              "      <td>524520.0</td>\n",
              "      <td>182240.0</td>\n",
              "      <td>-0.206458</td>\n",
              "      <td>E01002857</td>\n",
              "      <td>1</td>\n",
              "      <td>2</td>\n",
              "      <td>0.0</td>\n",
              "      <td>0.0</td>\n",
              "      <td>Metropolitan Police</td>\n",
              "      <td>Dry</td>\n",
              "      <td>Single carriageway</td>\n",
              "      <td>None</td>\n",
              "      <td>30.0</td>\n",
              "      <td>00:15</td>\n",
              "      <td>Urban</td>\n",
              "      <td>Fine no high winds</td>\n",
              "      <td>2005</td>\n",
              "      <td>No</td>\n",
              "    </tr>\n",
              "  </tbody>\n",
              "</table>\n",
              "</div>"
            ],
            "text/plain": [
              "  Accident_Index 1st_Road_Class  ...  Year InScotland\n",
              "0  200501BS00001              A  ...  2005         No\n",
              "1  200501BS00002              B  ...  2005         No\n",
              "2  200501BS00003              C  ...  2005         No\n",
              "\n",
              "[3 rows x 34 columns]"
            ]
          },
          "metadata": {},
          "execution_count": 8
        }
      ]
    },
    {
      "cell_type": "code",
      "metadata": {
        "id": "pkwEcX9wdJuZ",
        "colab": {
          "base_uri": "https://localhost:8080/"
        },
        "outputId": "2044aa15-c472-44c9-a0f8-c773dd8bcca4"
      },
      "source": [
        "encoding = {\n",
        "\"Carriageway_Hazards\": {\"None\": 0, \"Other object on road\": 1, \"Any animal in carriageway (except ridden horse)\": 1,  \"Pedestrian in carriageway - not injured\": 1, \"Previous accident\": 1, \"Vehicle load on road\": 1,  \"Data missing or out of range\": 0  }\n",
        "}\n",
        "df.replace(encoding, inplace=True)\n",
        "print(df['Carriageway_Hazards'].value_counts())"
      ],
      "execution_count": null,
      "outputs": [
        {
          "output_type": "stream",
          "name": "stdout",
          "text": [
            "0    2010553\n",
            "1      36703\n",
            "Name: Carriageway_Hazards, dtype: int64\n"
          ]
        }
      ]
    },
    {
      "cell_type": "code",
      "metadata": {
        "colab": {
          "base_uri": "https://localhost:8080/"
        },
        "id": "lO-Ej0vndJua",
        "outputId": "4636fc80-5ea3-4c93-a761-da1bbd353dd9"
      },
      "source": [
        "print(df['Light_Conditions'].value_counts())\n",
        "encoding_light = {\"Light_Conditions\": {\"Daylight\": 0, \"Darkness - lights lit\": 1, \"Darkness - no lighting\": 1, \"Darkness - lighting unknown\": 1, \"Darkness - lights unlit\": 1, \"Data missing or out of range\": 0}}\n",
        "df.replace(encoding_light, inplace=True)\n",
        "print(df['Light_Conditions'].value_counts())"
      ],
      "execution_count": null,
      "outputs": [
        {
          "output_type": "stream",
          "name": "stdout",
          "text": [
            "Daylight                        1496121\n",
            "Darkness - lights lit            404144\n",
            "Darkness - no lighting           112644\n",
            "Darkness - lighting unknown       24362\n",
            "Darkness - lights unlit            9971\n",
            "Data missing or out of range         14\n",
            "Name: Light_Conditions, dtype: int64\n",
            "0    1496135\n",
            "1     551121\n",
            "Name: Light_Conditions, dtype: int64\n"
          ]
        }
      ]
    },
    {
      "cell_type": "code",
      "metadata": {
        "colab": {
          "base_uri": "https://localhost:8080/"
        },
        "id": "VONYVMI_dJua",
        "outputId": "a5648a7b-49b4-485d-d3bb-7cef611b217b"
      },
      "source": [
        "print(df['Day_of_Week'].value_counts())\n",
        "encoding_day_of_week = {\"Day_of_Week\": {\"Saturday\": 1, \"Sunday\": 1, \"Monday\": 0, \"Tuesday\": 0, \"Wednesday\": 0, \"Thursday\": 0, \"Friday\": 0}}\n",
        "df.replace(encoding_day_of_week, inplace=True)\n",
        "print(df['Day_of_Week'].value_counts())"
      ],
      "execution_count": null,
      "outputs": [
        {
          "output_type": "stream",
          "name": "stdout",
          "text": [
            "Friday       335183\n",
            "Wednesday    308580\n",
            "Thursday     308240\n",
            "Tuesday      306292\n",
            "Monday       290482\n",
            "Saturday     273152\n",
            "Sunday       225327\n",
            "Name: Day_of_Week, dtype: int64\n",
            "0    1548777\n",
            "1     498479\n",
            "Name: Day_of_Week, dtype: int64\n"
          ]
        }
      ]
    },
    {
      "cell_type": "code",
      "metadata": {
        "id": "7wGsMEXydJub",
        "colab": {
          "base_uri": "https://localhost:8080/"
        },
        "outputId": "d8ce1f27-d0ba-41d3-f99a-65786277100d"
      },
      "source": [
        "print(df['Special_Conditions_at_Site'].value_counts())\n",
        "encoding_Special_Conditions_at_Site = {\"Special_Conditions_at_Site\": {\"None\": 0, \"Roadworks\": 1, \"Oil or diesel\": 1, \"Mud\": 1, \"Road surface defective\": 1, \"Auto traffic signal - out\": 1, \"Road sign or marking defective or obscured\": 1, \"Auto signal part defective\": 1, \"Data missing or out of range\": 0}}\n",
        "df.replace(encoding_Special_Conditions_at_Site, inplace=True)\n",
        "print(df['Special_Conditions_at_Site'].value_counts())"
      ],
      "execution_count": null,
      "outputs": [
        {
          "output_type": "stream",
          "name": "stdout",
          "text": [
            "None                                          1995137\n",
            "Roadworks                                       23525\n",
            "Oil or diesel                                    6797\n",
            "Mud                                              6363\n",
            "Road surface defective                           4801\n",
            "Auto traffic signal - out                        3855\n",
            "Road sign or marking defective or obscured       2930\n",
            "Data missing or out of range                     2835\n",
            "Auto signal part defective                       1013\n",
            "Name: Special_Conditions_at_Site, dtype: int64\n",
            "0    1997972\n",
            "1      49284\n",
            "Name: Special_Conditions_at_Site, dtype: int64\n"
          ]
        }
      ]
    },
    {
      "cell_type": "code",
      "metadata": {
        "id": "X9T4Vt0rdJuc",
        "colab": {
          "base_uri": "https://localhost:8080/"
        },
        "outputId": "7fba8606-b0dd-4c84-f474-9538bc090803"
      },
      "source": [
        "encoding_1st_road_class = {\"1st_Road_Class\": {\"A\": 1, \"A(M)\": 1, \"B\": 2, \"C\": 3, \"Motorway\": 4, \"Unclassified\": 1}}\n",
        "df.replace(encoding_1st_road_class, inplace=True)\n",
        "df['1st_Road_Class'].value_counts()"
      ],
      "execution_count": null,
      "outputs": [
        {
          "output_type": "execute_result",
          "data": {
            "text/plain": [
              "1    1536156\n",
              "2     258076\n",
              "3     174953\n",
              "4      78071\n",
              "Name: 1st_Road_Class, dtype: int64"
            ]
          },
          "metadata": {},
          "execution_count": 60
        }
      ]
    },
    {
      "cell_type": "code",
      "metadata": {
        "id": "fkOPG4NcdJuc"
      },
      "source": [
        "#replacing 'Data missing or out of range' with most occured value 'Give way or uncontrolled'\n",
        "df['Junction_Control'] = df['Junction_Control'].replace(['Data missing or out of range'], 'Give way or uncontrolled')"
      ],
      "execution_count": null,
      "outputs": []
    },
    {
      "cell_type": "code",
      "metadata": {
        "id": "bepsX1wNdJud",
        "colab": {
          "base_uri": "https://localhost:8080/"
        },
        "outputId": "a366ac65-4d63-4291-bf4c-108cb37fd1a4"
      },
      "source": [
        "df['Junction_Control'].value_counts()"
      ],
      "execution_count": null,
      "outputs": [
        {
          "output_type": "execute_result",
          "data": {
            "text/plain": [
              "Give way or uncontrolled               1742624\n",
              "Auto traffic signal                     211335\n",
              "Not at junction or within 20 metres      77304\n",
              "Stop sign                                12333\n",
              "Authorised person                         3660\n",
              "Name: Junction_Control, dtype: int64"
            ]
          },
          "metadata": {},
          "execution_count": 62
        }
      ]
    },
    {
      "cell_type": "code",
      "metadata": {
        "id": "d5sN0m5GdJud",
        "colab": {
          "base_uri": "https://localhost:8080/"
        },
        "outputId": "7054abc0-b243-4538-d959-41f5d1b9aa66"
      },
      "source": [
        "encoding_junction_detail = {\"Junction_Control\": \n",
        "                            {\"Give way or uncontrolled\": 1,\n",
        "                             \"Auto traffic signal\": 2,\n",
        "                             \"Not at junction or within 20 metres\": 3, \n",
        "                             \"Stop sign\": 4,\n",
        "                             \"Authorised person\": 5,\n",
        "                              }}\n",
        "df.replace(encoding_junction_detail, inplace=True)\n",
        "df['Junction_Control'].value_counts()"
      ],
      "execution_count": null,
      "outputs": [
        {
          "output_type": "execute_result",
          "data": {
            "text/plain": [
              "1    1742624\n",
              "2     211335\n",
              "3      77304\n",
              "4      12333\n",
              "5       3660\n",
              "Name: Junction_Control, dtype: int64"
            ]
          },
          "metadata": {},
          "execution_count": 63
        }
      ]
    },
    {
      "cell_type": "code",
      "metadata": {
        "id": "k5fZvLI7dJue",
        "colab": {
          "base_uri": "https://localhost:8080/"
        },
        "outputId": "4aaaad6c-340d-4aff-b055-a0b49a5b1fef"
      },
      "source": [
        "encoding_junction_detail = {\"Junction_Detail\": \n",
        "                            {\"Not at junction or within 20 metres\": 1,\n",
        "                             \"T or staggered junction\": 2,\n",
        "                             \"Crossroads\": 3, \n",
        "                             \"Roundabout\": 4,\n",
        "                             \"Private drive or entrance\": 5,\n",
        "                             \"Other junction\": 6,\n",
        "                             \"Slip road\": 7,\n",
        "                             \"More than 4 arms (not roundabout)\": 8,\n",
        "                             \"Mini-roundabout\": 9,\n",
        "                             \"Data missing or out of range\": 1 }}\n",
        "df.replace(encoding_junction_detail, inplace=True)\n",
        "df['Junction_Detail'].value_counts()"
      ],
      "execution_count": null,
      "outputs": [
        {
          "output_type": "execute_result",
          "data": {
            "text/plain": [
              "1    827957\n",
              "2    635349\n",
              "3    196283\n",
              "4    177214\n",
              "5     72751\n",
              "6     59692\n",
              "7     30052\n",
              "8     25551\n",
              "9     22407\n",
              "Name: Junction_Detail, dtype: int64"
            ]
          },
          "metadata": {},
          "execution_count": 64
        }
      ]
    },
    {
      "cell_type": "code",
      "metadata": {
        "id": "00LLi2uKdJuf",
        "colab": {
          "base_uri": "https://localhost:8080/"
        },
        "outputId": "cc9957cf-57d8-4ca2-9898-6a903e8079bd"
      },
      "source": [
        "encoding_road_surface_cond = {\"Road_Surface_Conditions\": \n",
        "                            {\"Dry\": 1,\n",
        "                             \"Wet or damp\": 2,\n",
        "                             \"Frost or ice\": 3, \n",
        "                             \"Snow\": 4,\n",
        "                             \"Flood over 3cm. deep\": 5,\n",
        "                             \"Data missing or out of range\": 1 }}\n",
        "df.replace(encoding_road_surface_cond, inplace=True)\n",
        "df['Road_Surface_Conditions'].value_counts()"
      ],
      "execution_count": null,
      "outputs": [
        {
          "output_type": "execute_result",
          "data": {
            "text/plain": [
              "1    1423360\n",
              "2     568563\n",
              "3      40321\n",
              "4      12167\n",
              "5       2845\n",
              "Name: Road_Surface_Conditions, dtype: int64"
            ]
          },
          "metadata": {},
          "execution_count": 65
        }
      ]
    },
    {
      "cell_type": "code",
      "metadata": {
        "id": "s75EAJ5cdJug",
        "colab": {
          "base_uri": "https://localhost:8080/"
        },
        "outputId": "bbf806b2-9f8e-4667-c11e-465cae7be846"
      },
      "source": [
        "encoding_road_type = {\"Road_Type\": \n",
        "                            {\"Single carriageway\": 1,\n",
        "                             \"Dual carriageway\": 2,\n",
        "                             \"Roundabout\": 3, \n",
        "                             \"One way street\": 4,\n",
        "                             \"Slip road\": 5,\n",
        "                             \"Unknown\": 0,\n",
        "                             \"Data missing or out of range\": 1 }}\n",
        "df.replace(encoding_road_type, inplace=True)\n",
        "df['Road_Type'].value_counts()"
      ],
      "execution_count": null,
      "outputs": [
        {
          "output_type": "execute_result",
          "data": {
            "text/plain": [
              "1    1527883\n",
              "2     303407\n",
              "3     136754\n",
              "4      43258\n",
              "5      21558\n",
              "0      14396\n",
              "Name: Road_Type, dtype: int64"
            ]
          },
          "metadata": {},
          "execution_count": 66
        }
      ]
    },
    {
      "cell_type": "code",
      "metadata": {
        "id": "N0cZgTeqdJug",
        "colab": {
          "base_uri": "https://localhost:8080/"
        },
        "outputId": "77259c8e-bbd5-447f-f504-787dd702b919"
      },
      "source": [
        "encoding_urban_rural = {\"Urban_or_Rural_Area\": \n",
        "                            {\"Urban\": 1,\n",
        "                             \"Rural\": 2,\n",
        "                             \"Unallocated\": 1 }}\n",
        "df.replace(encoding_urban_rural, inplace=True)\n",
        "df['Urban_or_Rural_Area'].value_counts()"
      ],
      "execution_count": null,
      "outputs": [
        {
          "output_type": "execute_result",
          "data": {
            "text/plain": [
              "1    1322499\n",
              "2     724757\n",
              "Name: Urban_or_Rural_Area, dtype: int64"
            ]
          },
          "metadata": {},
          "execution_count": 67
        }
      ]
    },
    {
      "cell_type": "code",
      "metadata": {
        "id": "TfzlLcrAdJuh",
        "colab": {
          "base_uri": "https://localhost:8080/"
        },
        "outputId": "47f09c43-c1c4-40a0-9a7a-241928dd9923"
      },
      "source": [
        "encoding_weather = {\"Weather_Conditions\": \n",
        "                            {\"Fine no high winds\": 1,\n",
        "                             \"Raining no high winds\": 2,\n",
        "                             \"Raining + high winds\": 3,\n",
        "                             \"Fine + high winds\": 4,\n",
        "                             \"Snowing no high winds\": 5,\n",
        "                             \"Fog or mist\": 6,\n",
        "                             \"Snowing + high winds\": 7,\n",
        "                             \"Unknown\": 1,\n",
        "                             \"Other\": 1,\n",
        "                             \"Data missing or out of range\": 1 }}\n",
        "df.replace(encoding_weather, inplace=True)\n",
        "df['Weather_Conditions'].value_counts()"
      ],
      "execution_count": null,
      "outputs": [
        {
          "output_type": "execute_result",
          "data": {
            "text/plain": [
              "1    1726874\n",
              "2     239281\n",
              "3      28343\n",
              "4      25816\n",
              "5      13387\n",
              "6      11068\n",
              "7       2487\n",
              "Name: Weather_Conditions, dtype: int64"
            ]
          },
          "metadata": {},
          "execution_count": 68
        }
      ]
    },
    {
      "cell_type": "code",
      "metadata": {
        "id": "c9i-PAmfdJui",
        "colab": {
          "base_uri": "https://localhost:8080/"
        },
        "outputId": "5cb8c10f-f8fc-428e-ffd5-81e6f64be712"
      },
      "source": [
        "np.where(np.isnan(df['Speed_limit']))"
      ],
      "execution_count": null,
      "outputs": [
        {
          "output_type": "execute_result",
          "data": {
            "text/plain": [
              "(array([1801605, 1843133, 1843396, 1857338, 1857382, 1857458, 1857466,\n",
              "        1857525, 1857526, 1857527, 1857531, 1857539, 1857561, 1857564,\n",
              "        1857583, 1857610, 1857613, 1857618, 1857622, 1857627, 1857635,\n",
              "        1857681, 1857704, 1857720, 1857736, 1857737, 1857772, 1898106,\n",
              "        1898251, 1898467, 1898663, 1898938, 1899072, 1899103, 1899306,\n",
              "        1899388, 1912877]),)"
            ]
          },
          "metadata": {},
          "execution_count": 69
        }
      ]
    },
    {
      "cell_type": "code",
      "metadata": {
        "id": "pxeC4EONdJui"
      },
      "source": [
        "df['Speed_limit'].fillna((df['Speed_limit'].mean()), inplace=True)"
      ],
      "execution_count": null,
      "outputs": []
    },
    {
      "cell_type": "code",
      "metadata": {
        "id": "DT7fHC9cdJuj"
      },
      "source": [
        "df['Time'].fillna(0, inplace=True)"
      ],
      "execution_count": null,
      "outputs": []
    },
    {
      "cell_type": "code",
      "metadata": {
        "id": "UGOcMRaidJuj"
      },
      "source": [
        "def period(row):\n",
        "    rdf = []\n",
        "    if(type(row) == float):\n",
        "        row = str(row)\n",
        "        rdf = row.split(\".\")\n",
        "    else:\n",
        "        rdf = str(row).split(\":\"); # day -- 8am-8pm\n",
        "        \n",
        "    hr = rdf[0]\n",
        "    if int(hr) > 8 and int(hr) < 20:\n",
        "        return 1;\n",
        "    else:\n",
        "        return 2;"
      ],
      "execution_count": null,
      "outputs": []
    },
    {
      "cell_type": "code",
      "metadata": {
        "id": "yhS07az0dJuj"
      },
      "source": [
        "df['Time'] = df['Time'].apply(period)"
      ],
      "execution_count": null,
      "outputs": []
    },
    {
      "cell_type": "code",
      "metadata": {
        "id": "mBxXUASgdJuk"
      },
      "source": [
        "df_train1 = df[['1st_Road_Class','Carriageway_Hazards','Junction_Control','Day_of_Week','Junction_Detail','Light_Conditions','Road_Surface_Conditions','Road_Type','Special_Conditions_at_Site','Speed_limit','Time','Urban_or_Rural_Area','Weather_Conditions','Accident_Severity']]"
      ],
      "execution_count": null,
      "outputs": []
    },
    {
      "cell_type": "code",
      "metadata": {
        "id": "KxusykQadJuk"
      },
      "source": [
        "df_slight = df_train1[df_train1['Accident_Severity']=='Slight']"
      ],
      "execution_count": null,
      "outputs": []
    },
    {
      "cell_type": "code",
      "metadata": {
        "id": "VQJCnJjOdJul"
      },
      "source": [
        "df_serious = df_train1[df_train1['Accident_Severity']=='Serious']"
      ],
      "execution_count": null,
      "outputs": []
    },
    {
      "cell_type": "code",
      "metadata": {
        "id": "dHf-JRrNdJul"
      },
      "source": [
        "df_fatal = df_train1[df_train1['Accident_Severity']=='Fatal']"
      ],
      "execution_count": null,
      "outputs": []
    },
    {
      "cell_type": "code",
      "metadata": {
        "id": "t7JIULmtdJum",
        "colab": {
          "base_uri": "https://localhost:8080/"
        },
        "outputId": "52d37ddb-dc2a-4c91-a2e2-d147b0a927b8"
      },
      "source": [
        "df_serious['Accident_Severity'].value_counts()"
      ],
      "execution_count": null,
      "outputs": [
        {
          "output_type": "execute_result",
          "data": {
            "text/plain": [
              "Serious    286339\n",
              "Name: Accident_Severity, dtype: int64"
            ]
          },
          "metadata": {},
          "execution_count": 78
        }
      ]
    },
    {
      "cell_type": "code",
      "metadata": {
        "id": "eA6EJSkndJum",
        "colab": {
          "base_uri": "https://localhost:8080/",
          "height": 162
        },
        "outputId": "671f11c6-ea8f-4ea6-df0b-22f548096177"
      },
      "source": [
        "random_subset = df_slight.sample(n=3)\n",
        "random_subset.head()"
      ],
      "execution_count": null,
      "outputs": [
        {
          "output_type": "execute_result",
          "data": {
            "text/html": [
              "<div>\n",
              "<style scoped>\n",
              "    .dataframe tbody tr th:only-of-type {\n",
              "        vertical-align: middle;\n",
              "    }\n",
              "\n",
              "    .dataframe tbody tr th {\n",
              "        vertical-align: top;\n",
              "    }\n",
              "\n",
              "    .dataframe thead th {\n",
              "        text-align: right;\n",
              "    }\n",
              "</style>\n",
              "<table border=\"1\" class=\"dataframe\">\n",
              "  <thead>\n",
              "    <tr style=\"text-align: right;\">\n",
              "      <th></th>\n",
              "      <th>1st_Road_Class</th>\n",
              "      <th>Carriageway_Hazards</th>\n",
              "      <th>Junction_Control</th>\n",
              "      <th>Day_of_Week</th>\n",
              "      <th>Junction_Detail</th>\n",
              "      <th>Light_Conditions</th>\n",
              "      <th>Road_Surface_Conditions</th>\n",
              "      <th>Road_Type</th>\n",
              "      <th>Special_Conditions_at_Site</th>\n",
              "      <th>Speed_limit</th>\n",
              "      <th>Time</th>\n",
              "      <th>Urban_or_Rural_Area</th>\n",
              "      <th>Weather_Conditions</th>\n",
              "      <th>Accident_Severity</th>\n",
              "    </tr>\n",
              "  </thead>\n",
              "  <tbody>\n",
              "    <tr>\n",
              "      <th>1780177</th>\n",
              "      <td>1</td>\n",
              "      <td>0</td>\n",
              "      <td>1</td>\n",
              "      <td>1</td>\n",
              "      <td>1</td>\n",
              "      <td>0</td>\n",
              "      <td>1</td>\n",
              "      <td>1</td>\n",
              "      <td>0</td>\n",
              "      <td>60.0</td>\n",
              "      <td>1</td>\n",
              "      <td>2</td>\n",
              "      <td>1</td>\n",
              "      <td>Slight</td>\n",
              "    </tr>\n",
              "    <tr>\n",
              "      <th>1607473</th>\n",
              "      <td>3</td>\n",
              "      <td>0</td>\n",
              "      <td>1</td>\n",
              "      <td>0</td>\n",
              "      <td>1</td>\n",
              "      <td>0</td>\n",
              "      <td>1</td>\n",
              "      <td>4</td>\n",
              "      <td>0</td>\n",
              "      <td>30.0</td>\n",
              "      <td>2</td>\n",
              "      <td>1</td>\n",
              "      <td>1</td>\n",
              "      <td>Slight</td>\n",
              "    </tr>\n",
              "    <tr>\n",
              "      <th>208643</th>\n",
              "      <td>1</td>\n",
              "      <td>0</td>\n",
              "      <td>1</td>\n",
              "      <td>0</td>\n",
              "      <td>2</td>\n",
              "      <td>0</td>\n",
              "      <td>2</td>\n",
              "      <td>1</td>\n",
              "      <td>0</td>\n",
              "      <td>30.0</td>\n",
              "      <td>1</td>\n",
              "      <td>1</td>\n",
              "      <td>1</td>\n",
              "      <td>Slight</td>\n",
              "    </tr>\n",
              "  </tbody>\n",
              "</table>\n",
              "</div>"
            ],
            "text/plain": [
              "         1st_Road_Class  ...  Accident_Severity\n",
              "1780177               1  ...             Slight\n",
              "1607473               3  ...             Slight\n",
              "208643                1  ...             Slight\n",
              "\n",
              "[3 rows x 14 columns]"
            ]
          },
          "metadata": {},
          "execution_count": 79
        }
      ]
    },
    {
      "cell_type": "code",
      "metadata": {
        "id": "ANgg0sx8dJun",
        "colab": {
          "base_uri": "https://localhost:8080/"
        },
        "outputId": "2361f73d-d953-47ec-8779-b1fdfd261201"
      },
      "source": [
        "df_fatal['Accident_Severity'].value_counts()"
      ],
      "execution_count": null,
      "outputs": [
        {
          "output_type": "execute_result",
          "data": {
            "text/plain": [
              "Fatal    26369\n",
              "Name: Accident_Severity, dtype: int64"
            ]
          },
          "metadata": {},
          "execution_count": 80
        }
      ]
    },
    {
      "cell_type": "code",
      "metadata": {
        "id": "wtWFAxdAdJun"
      },
      "source": [
        "df_slight_sampling = df_slight.sample(n=45000)  #Matched the combined number of records for Fatal and Serious(As we are going to club fatal&serious to Serious)"
      ],
      "execution_count": null,
      "outputs": []
    },
    {
      "cell_type": "code",
      "metadata": {
        "id": "hQ5i9BoCdJun"
      },
      "source": [
        "df_serious_sampling = df_serious.sample(n=24693)  #Matched number of records with the rarer class (Fatal#24693)"
      ],
      "execution_count": null,
      "outputs": []
    },
    {
      "cell_type": "code",
      "metadata": {
        "id": "SKeTikJ9dJuo"
      },
      "source": [
        "df_final_sampling = pd.concat([df_serious_sampling,df_slight_sampling,df_fatal])"
      ],
      "execution_count": null,
      "outputs": []
    },
    {
      "cell_type": "code",
      "metadata": {
        "id": "4o2qaxNddJuo",
        "colab": {
          "base_uri": "https://localhost:8080/",
          "height": 224
        },
        "outputId": "e6e75e83-960d-4c30-b61b-060470ab596f"
      },
      "source": [
        "df_final_sampling.head()"
      ],
      "execution_count": null,
      "outputs": [
        {
          "output_type": "execute_result",
          "data": {
            "text/html": [
              "<div>\n",
              "<style scoped>\n",
              "    .dataframe tbody tr th:only-of-type {\n",
              "        vertical-align: middle;\n",
              "    }\n",
              "\n",
              "    .dataframe tbody tr th {\n",
              "        vertical-align: top;\n",
              "    }\n",
              "\n",
              "    .dataframe thead th {\n",
              "        text-align: right;\n",
              "    }\n",
              "</style>\n",
              "<table border=\"1\" class=\"dataframe\">\n",
              "  <thead>\n",
              "    <tr style=\"text-align: right;\">\n",
              "      <th></th>\n",
              "      <th>1st_Road_Class</th>\n",
              "      <th>Carriageway_Hazards</th>\n",
              "      <th>Junction_Control</th>\n",
              "      <th>Day_of_Week</th>\n",
              "      <th>Junction_Detail</th>\n",
              "      <th>Light_Conditions</th>\n",
              "      <th>Road_Surface_Conditions</th>\n",
              "      <th>Road_Type</th>\n",
              "      <th>Special_Conditions_at_Site</th>\n",
              "      <th>Speed_limit</th>\n",
              "      <th>Time</th>\n",
              "      <th>Urban_or_Rural_Area</th>\n",
              "      <th>Weather_Conditions</th>\n",
              "      <th>Accident_Severity</th>\n",
              "    </tr>\n",
              "  </thead>\n",
              "  <tbody>\n",
              "    <tr>\n",
              "      <th>2028663</th>\n",
              "      <td>1</td>\n",
              "      <td>0</td>\n",
              "      <td>1</td>\n",
              "      <td>0</td>\n",
              "      <td>1</td>\n",
              "      <td>0</td>\n",
              "      <td>2</td>\n",
              "      <td>1</td>\n",
              "      <td>0</td>\n",
              "      <td>60.0</td>\n",
              "      <td>2</td>\n",
              "      <td>2</td>\n",
              "      <td>2</td>\n",
              "      <td>Serious</td>\n",
              "    </tr>\n",
              "    <tr>\n",
              "      <th>1333633</th>\n",
              "      <td>1</td>\n",
              "      <td>0</td>\n",
              "      <td>1</td>\n",
              "      <td>0</td>\n",
              "      <td>1</td>\n",
              "      <td>0</td>\n",
              "      <td>1</td>\n",
              "      <td>1</td>\n",
              "      <td>0</td>\n",
              "      <td>30.0</td>\n",
              "      <td>2</td>\n",
              "      <td>1</td>\n",
              "      <td>1</td>\n",
              "      <td>Serious</td>\n",
              "    </tr>\n",
              "    <tr>\n",
              "      <th>267550</th>\n",
              "      <td>1</td>\n",
              "      <td>0</td>\n",
              "      <td>1</td>\n",
              "      <td>0</td>\n",
              "      <td>2</td>\n",
              "      <td>0</td>\n",
              "      <td>1</td>\n",
              "      <td>1</td>\n",
              "      <td>0</td>\n",
              "      <td>40.0</td>\n",
              "      <td>1</td>\n",
              "      <td>1</td>\n",
              "      <td>1</td>\n",
              "      <td>Serious</td>\n",
              "    </tr>\n",
              "    <tr>\n",
              "      <th>303448</th>\n",
              "      <td>1</td>\n",
              "      <td>0</td>\n",
              "      <td>1</td>\n",
              "      <td>0</td>\n",
              "      <td>1</td>\n",
              "      <td>0</td>\n",
              "      <td>1</td>\n",
              "      <td>2</td>\n",
              "      <td>0</td>\n",
              "      <td>70.0</td>\n",
              "      <td>1</td>\n",
              "      <td>2</td>\n",
              "      <td>1</td>\n",
              "      <td>Serious</td>\n",
              "    </tr>\n",
              "    <tr>\n",
              "      <th>1800871</th>\n",
              "      <td>1</td>\n",
              "      <td>0</td>\n",
              "      <td>1</td>\n",
              "      <td>1</td>\n",
              "      <td>2</td>\n",
              "      <td>0</td>\n",
              "      <td>1</td>\n",
              "      <td>1</td>\n",
              "      <td>0</td>\n",
              "      <td>30.0</td>\n",
              "      <td>2</td>\n",
              "      <td>1</td>\n",
              "      <td>1</td>\n",
              "      <td>Serious</td>\n",
              "    </tr>\n",
              "  </tbody>\n",
              "</table>\n",
              "</div>"
            ],
            "text/plain": [
              "         1st_Road_Class  ...  Accident_Severity\n",
              "2028663               1  ...            Serious\n",
              "1333633               1  ...            Serious\n",
              "267550                1  ...            Serious\n",
              "303448                1  ...            Serious\n",
              "1800871               1  ...            Serious\n",
              "\n",
              "[5 rows x 14 columns]"
            ]
          },
          "metadata": {},
          "execution_count": 84
        }
      ]
    },
    {
      "cell_type": "code",
      "metadata": {
        "id": "HeRMRgXfdJup"
      },
      "source": [
        "df_test = df_final_sampling[['Accident_Severity']]"
      ],
      "execution_count": null,
      "outputs": []
    },
    {
      "cell_type": "code",
      "metadata": {
        "id": "jmv5G02ndJup",
        "colab": {
          "base_uri": "https://localhost:8080/"
        },
        "outputId": "4dfb4f0f-efa7-41ad-dc91-7735aeaf4851"
      },
      "source": [
        "#replacing 'Data missing or out of range' with most occured value 'None'\n",
        "df_test['Accident_Severity'] = df_test['Accident_Severity'].replace(['Fatal'], 'Serious')"
      ],
      "execution_count": null,
      "outputs": [
        {
          "output_type": "stream",
          "name": "stderr",
          "text": [
            "/usr/local/lib/python3.7/dist-packages/ipykernel_launcher.py:2: SettingWithCopyWarning: \n",
            "A value is trying to be set on a copy of a slice from a DataFrame.\n",
            "Try using .loc[row_indexer,col_indexer] = value instead\n",
            "\n",
            "See the caveats in the documentation: https://pandas.pydata.org/pandas-docs/stable/user_guide/indexing.html#returning-a-view-versus-a-copy\n",
            "  \n"
          ]
        }
      ]
    },
    {
      "cell_type": "code",
      "metadata": {
        "id": "XlaIvRwadJuq"
      },
      "source": [
        "df_train = df_final_sampling[['1st_Road_Class','Carriageway_Hazards','Junction_Control','Day_of_Week','Junction_Detail','Light_Conditions','Road_Surface_Conditions','Road_Type','Special_Conditions_at_Site','Speed_limit','Time','Urban_or_Rural_Area','Weather_Conditions']]"
      ],
      "execution_count": null,
      "outputs": []
    },
    {
      "cell_type": "code",
      "metadata": {
        "id": "EktpKfh_dJuq",
        "colab": {
          "base_uri": "https://localhost:8080/"
        },
        "outputId": "e83d44cf-cda3-44b6-fe4f-8f548f8227f1"
      },
      "source": [
        "df_test['Accident_Severity'].value_counts()"
      ],
      "execution_count": null,
      "outputs": [
        {
          "output_type": "execute_result",
          "data": {
            "text/plain": [
              "Serious    51062\n",
              "Slight     45000\n",
              "Name: Accident_Severity, dtype: int64"
            ]
          },
          "metadata": {},
          "execution_count": 88
        }
      ]
    },
    {
      "cell_type": "code",
      "metadata": {
        "id": "yVTaDZcXdJur"
      },
      "source": [
        "from sklearn.model_selection import train_test_split\n",
        "X_train, X_test, y_train, y_test = train_test_split(df_train, df_test, test_size=0.2)"
      ],
      "execution_count": null,
      "outputs": []
    },
    {
      "cell_type": "code",
      "metadata": {
        "id": "ynAF_vWtdJur",
        "colab": {
          "base_uri": "https://localhost:8080/"
        },
        "outputId": "803243e9-f8ee-42d6-e8cb-9621a74bbba5"
      },
      "source": [
        "from sklearn.ensemble import RandomForestClassifier\n",
        "#class_weight = dict({2:1, 1:15, 0:50})\n",
        "rdf = RandomForestClassifier(n_estimators=300,random_state=35)\n",
        "\n",
        "rdf.fit(X_train,y_train)\n",
        "\n",
        "y_pred=rdf.predict(X_test)\n",
        "\n",
        "#Import scikit-learn metrics module for accuracy calculation\n",
        "from sklearn import metrics\n",
        "# Model Accuracy, how often is the classifier correct?\n",
        "print(\"Accuracy:\",metrics.accuracy_score(y_test, y_pred))\n",
        "\n",
        "from sklearn import metrics\n",
        "from sklearn.metrics import classification_report, confusion_matrix  \n",
        "print(confusion_matrix(y_test, y_pred))  \n",
        "print(classification_report(y_test, y_pred)) "
      ],
      "execution_count": null,
      "outputs": [
        {
          "output_type": "stream",
          "name": "stderr",
          "text": [
            "/usr/local/lib/python3.7/dist-packages/ipykernel_launcher.py:5: DataConversionWarning: A column-vector y was passed when a 1d array was expected. Please change the shape of y to (n_samples,), for example using ravel().\n",
            "  \"\"\"\n"
          ]
        },
        {
          "output_type": "stream",
          "name": "stdout",
          "text": [
            "Accuracy: 0.6103159319210951\n",
            "[[6086 4049]\n",
            " [3438 5640]]\n",
            "              precision    recall  f1-score   support\n",
            "\n",
            "     Serious       0.64      0.60      0.62     10135\n",
            "      Slight       0.58      0.62      0.60      9078\n",
            "\n",
            "    accuracy                           0.61     19213\n",
            "   macro avg       0.61      0.61      0.61     19213\n",
            "weighted avg       0.61      0.61      0.61     19213\n",
            "\n"
          ]
        }
      ]
    },
    {
      "cell_type": "code",
      "metadata": {
        "id": "xcPgXjjJdJus"
      },
      "source": [
        "from sklearn.ensemble import RandomForestClassifier\n",
        "#class_weight = dict({2:1, 1:15, 0:50})\n",
        "rdf = RandomForestClassifier(bootstrap=True,\n",
        "            class_weight=\"balanced_subsample\", \n",
        "            criterion='gini',\n",
        "            max_depth=8, max_features='auto', max_leaf_nodes=None,\n",
        "            min_impurity_decrease=0.0,\n",
        "            min_samples_leaf=4, min_samples_split=10,\n",
        "            min_weight_fraction_leaf=0.0, n_estimators=300,\n",
        "            oob_score=True,\n",
        "            random_state=35,\n",
        "            verbose=0, warm_start=False)"
      ],
      "execution_count": null,
      "outputs": []
    },
    {
      "cell_type": "code",
      "metadata": {
        "id": "uzi-eoLhdJus",
        "colab": {
          "base_uri": "https://localhost:8080/"
        },
        "outputId": "dfa64a7f-7833-4481-83df-3546aaec8898"
      },
      "source": [
        "rdf.fit(X_train,y_train)\n",
        "\n",
        "y_pred=rdf.predict(X_test)"
      ],
      "execution_count": null,
      "outputs": [
        {
          "output_type": "stream",
          "name": "stderr",
          "text": [
            "/usr/local/lib/python3.7/dist-packages/ipykernel_launcher.py:1: DataConversionWarning: A column-vector y was passed when a 1d array was expected. Please change the shape of y to (n_samples,), for example using ravel().\n",
            "  \"\"\"Entry point for launching an IPython kernel.\n",
            "/usr/local/lib/python3.7/dist-packages/sklearn/base.py:446: UserWarning: X does not have valid feature names, but RandomForestClassifier was fitted with feature names\n",
            "  \"X does not have valid feature names, but\"\n"
          ]
        }
      ]
    },
    {
      "cell_type": "code",
      "metadata": {
        "id": "-a6b9X3gdJut",
        "colab": {
          "base_uri": "https://localhost:8080/"
        },
        "outputId": "36f9d998-8385-4bff-ffa2-b934312fd5f4"
      },
      "source": [
        "#Import scikit-learn metrics module for accuracy calculation\n",
        "from sklearn import metrics\n",
        "# Model Accuracy, how often is the classifier correct?\n",
        "print(\"Accuracy:\",metrics.accuracy_score(y_test, y_pred))"
      ],
      "execution_count": null,
      "outputs": [
        {
          "output_type": "stream",
          "name": "stdout",
          "text": [
            "Accuracy: 0.6288971009212513\n"
          ]
        }
      ]
    },
    {
      "cell_type": "code",
      "metadata": {
        "id": "Y8oFHCxedJut",
        "colab": {
          "base_uri": "https://localhost:8080/"
        },
        "outputId": "f27f2cdd-a730-4b01-f961-f97d6a5ee924"
      },
      "source": [
        "from sklearn import metrics\n",
        "from sklearn.metrics import classification_report, confusion_matrix  \n",
        "print(confusion_matrix(y_test, y_pred))  \n",
        "print(classification_report(y_test, y_pred)) "
      ],
      "execution_count": null,
      "outputs": [
        {
          "output_type": "stream",
          "name": "stdout",
          "text": [
            "[[5687 4448]\n",
            " [2682 6396]]\n",
            "              precision    recall  f1-score   support\n",
            "\n",
            "     Serious       0.68      0.56      0.61     10135\n",
            "      Slight       0.59      0.70      0.64      9078\n",
            "\n",
            "    accuracy                           0.63     19213\n",
            "   macro avg       0.63      0.63      0.63     19213\n",
            "weighted avg       0.64      0.63      0.63     19213\n",
            "\n"
          ]
        }
      ]
    },
    {
      "cell_type": "code",
      "metadata": {
        "id": "AQ9aWd5XdJuu",
        "colab": {
          "base_uri": "https://localhost:8080/"
        },
        "outputId": "419c4434-00c9-4fde-9628-f7b2c7a909a3"
      },
      "source": [
        "from xgboost import XGBClassifier\n",
        "model = XGBClassifier(learning_rate =0.07, n_estimators=300,\n",
        "                      class_weight=\"balanced_subsample\",\n",
        "                      max_depth=8, min_child_weight=1,\n",
        "                      scale_pos_weight=7,\n",
        "                      seed=27,subsample=0.8,colsample_bytree=0.8)\n",
        "\n",
        "model.fit(X_train,y_train)\n",
        "\n",
        "y_pred=model.predict(X_test)\n",
        "\n",
        "print(\"Accuracy:\",metrics.accuracy_score(y_test, y_pred))"
      ],
      "execution_count": null,
      "outputs": [
        {
          "output_type": "stream",
          "name": "stderr",
          "text": [
            "/usr/local/lib/python3.7/dist-packages/sklearn/preprocessing/_label.py:98: DataConversionWarning: A column-vector y was passed when a 1d array was expected. Please change the shape of y to (n_samples, ), for example using ravel().\n",
            "  y = column_or_1d(y, warn=True)\n",
            "/usr/local/lib/python3.7/dist-packages/sklearn/preprocessing/_label.py:133: DataConversionWarning: A column-vector y was passed when a 1d array was expected. Please change the shape of y to (n_samples, ), for example using ravel().\n",
            "  y = column_or_1d(y, warn=True)\n"
          ]
        },
        {
          "output_type": "stream",
          "name": "stdout",
          "text": [
            "Accuracy: 0.48311039400405975\n"
          ]
        }
      ]
    },
    {
      "cell_type": "code",
      "metadata": {
        "id": "naZlNtrIdJuv",
        "colab": {
          "base_uri": "https://localhost:8080/"
        },
        "outputId": "648d179f-4e32-4e34-e0b3-0acb35087fa7"
      },
      "source": [
        "print(confusion_matrix(y_test, y_pred))  \n",
        "print(classification_report(y_test, y_pred)) "
      ],
      "execution_count": null,
      "outputs": [
        {
          "output_type": "stream",
          "name": "stdout",
          "text": [
            "[[ 292 9843]\n",
            " [  88 8990]]\n",
            "              precision    recall  f1-score   support\n",
            "\n",
            "     Serious       0.77      0.03      0.06     10135\n",
            "      Slight       0.48      0.99      0.64      9078\n",
            "\n",
            "    accuracy                           0.48     19213\n",
            "   macro avg       0.62      0.51      0.35     19213\n",
            "weighted avg       0.63      0.48      0.33     19213\n",
            "\n"
          ]
        }
      ]
    },
    {
      "cell_type": "code",
      "metadata": {
        "id": "ji7lmDDIdJuv",
        "colab": {
          "base_uri": "https://localhost:8080/"
        },
        "outputId": "137d315f-ec9f-4b12-bb79-3bcd5d37b7e1"
      },
      "source": [
        "# import the class\n",
        "from sklearn.neighbors import KNeighborsClassifier\n",
        "\n",
        "# instantiate the model (with the default parameters)\n",
        "knn = KNeighborsClassifier(n_neighbors=3,weights='distance')\n",
        "\n",
        "# fit the model with data (occurs in-place)\n",
        "knn.fit(X_train, y_train)\n",
        "\n",
        "y_pred = knn.predict(X_test)\n",
        "\n",
        "print(confusion_matrix(y_test, y_pred))  \n",
        "print(classification_report(y_test, y_pred)) "
      ],
      "execution_count": null,
      "outputs": [
        {
          "output_type": "stream",
          "name": "stderr",
          "text": [
            "/usr/local/lib/python3.7/dist-packages/sklearn/neighbors/_classification.py:198: DataConversionWarning: A column-vector y was passed when a 1d array was expected. Please change the shape of y to (n_samples,), for example using ravel().\n",
            "  return self._fit(X, y)\n"
          ]
        },
        {
          "output_type": "stream",
          "name": "stdout",
          "text": [
            "[[6306 3829]\n",
            " [4427 4651]]\n",
            "              precision    recall  f1-score   support\n",
            "\n",
            "     Serious       0.59      0.62      0.60     10135\n",
            "      Slight       0.55      0.51      0.53      9078\n",
            "\n",
            "    accuracy                           0.57     19213\n",
            "   macro avg       0.57      0.57      0.57     19213\n",
            "weighted avg       0.57      0.57      0.57     19213\n",
            "\n"
          ]
        }
      ]
    },
    {
      "cell_type": "code",
      "metadata": {
        "id": "n8XuK3JxdJuv",
        "colab": {
          "base_uri": "https://localhost:8080/"
        },
        "outputId": "55269c99-650b-4faf-cd5c-2b90a092c2a9"
      },
      "source": [
        "from sklearn.linear_model import LogisticRegression\n",
        "logisticRegr = LogisticRegression()\n",
        "logisticRegr.fit(X_train, y_train)\n",
        "y_pred = logisticRegr.predict(X_test)\n",
        "print(confusion_matrix(y_test, y_pred))  \n",
        "print(classification_report(y_test, y_pred)) "
      ],
      "execution_count": null,
      "outputs": [
        {
          "output_type": "stream",
          "name": "stderr",
          "text": [
            "/usr/local/lib/python3.7/dist-packages/sklearn/utils/validation.py:985: DataConversionWarning: A column-vector y was passed when a 1d array was expected. Please change the shape of y to (n_samples, ), for example using ravel().\n",
            "  y = column_or_1d(y, warn=True)\n",
            "/usr/local/lib/python3.7/dist-packages/sklearn/linear_model/_logistic.py:818: ConvergenceWarning: lbfgs failed to converge (status=1):\n",
            "STOP: TOTAL NO. of ITERATIONS REACHED LIMIT.\n",
            "\n",
            "Increase the number of iterations (max_iter) or scale the data as shown in:\n",
            "    https://scikit-learn.org/stable/modules/preprocessing.html\n",
            "Please also refer to the documentation for alternative solver options:\n",
            "    https://scikit-learn.org/stable/modules/linear_model.html#logistic-regression\n",
            "  extra_warning_msg=_LOGISTIC_SOLVER_CONVERGENCE_MSG,\n"
          ]
        },
        {
          "output_type": "stream",
          "name": "stdout",
          "text": [
            "[[6596 3539]\n",
            " [3864 5214]]\n",
            "              precision    recall  f1-score   support\n",
            "\n",
            "     Serious       0.63      0.65      0.64     10135\n",
            "      Slight       0.60      0.57      0.58      9078\n",
            "\n",
            "    accuracy                           0.61     19213\n",
            "   macro avg       0.61      0.61      0.61     19213\n",
            "weighted avg       0.61      0.61      0.61     19213\n",
            "\n"
          ]
        }
      ]
    },
    {
      "cell_type": "code",
      "metadata": {
        "id": "kYOD_sI7dJuw",
        "colab": {
          "base_uri": "https://localhost:8080/"
        },
        "outputId": "7880b97e-7948-4196-d1a7-e773b870cbb3"
      },
      "source": [
        "from sklearn.naive_bayes import GaussianNB\n",
        "from sklearn.metrics import accuracy_score\n",
        "gnb = GaussianNB()\n",
        "y_pred = gnb.fit(X_train, y_train).predict(X_test)\n",
        "print(accuracy_score(y_test, y_pred))\n",
        "confusion_matrix(y_test, y_pred)\n",
        "print(format(classification_report(y_test, y_pred)))"
      ],
      "execution_count": null,
      "outputs": [
        {
          "output_type": "stream",
          "name": "stderr",
          "text": [
            "/usr/local/lib/python3.7/dist-packages/sklearn/utils/validation.py:985: DataConversionWarning: A column-vector y was passed when a 1d array was expected. Please change the shape of y to (n_samples, ), for example using ravel().\n",
            "  y = column_or_1d(y, warn=True)\n"
          ]
        },
        {
          "output_type": "stream",
          "name": "stdout",
          "text": [
            "0.6112007494925311\n",
            "              precision    recall  f1-score   support\n",
            "\n",
            "     Serious       0.63      0.63      0.63     10135\n",
            "      Slight       0.59      0.59      0.59      9078\n",
            "\n",
            "    accuracy                           0.61     19213\n",
            "   macro avg       0.61      0.61      0.61     19213\n",
            "weighted avg       0.61      0.61      0.61     19213\n",
            "\n"
          ]
        }
      ]
    },
    {
      "cell_type": "code",
      "metadata": {
        "id": "-L91k9Y1dJux",
        "colab": {
          "base_uri": "https://localhost:8080/"
        },
        "outputId": "45442adb-d56d-4a7d-e4bf-01d69472a478"
      },
      "source": [
        "from sklearn.ensemble import GradientBoostingClassifier\n",
        "gbc = GradientBoostingClassifier(loss=\"deviance\", learning_rate=0.1, \n",
        "      n_estimators=100, subsample=1.0, criterion=\"friedman_mse\", \n",
        "      min_samples_split=2, min_samples_leaf=1, min_weight_fraction_leaf=0.0, \n",
        "      max_depth=3, min_impurity_decrease=0.0, init=None, \n",
        "      random_state=None, max_features=None, verbose=0, max_leaf_nodes=None, warm_start=False)\n",
        "\n",
        "y_pred = gbc.fit(X_train, y_train.values.ravel()).predict(X_test)\n",
        "print(format(classification_report(y_test, y_pred)))\n",
        "print(accuracy_score(y_test, y_pred))"
      ],
      "execution_count": null,
      "outputs": [
        {
          "output_type": "stream",
          "name": "stdout",
          "text": [
            "              precision    recall  f1-score   support\n",
            "\n",
            "     Serious       0.66      0.61      0.64     10135\n",
            "      Slight       0.60      0.65      0.62      9078\n",
            "\n",
            "    accuracy                           0.63     19213\n",
            "   macro avg       0.63      0.63      0.63     19213\n",
            "weighted avg       0.63      0.63      0.63     19213\n",
            "\n",
            "0.6287930047363764\n"
          ]
        }
      ]
    },
    {
      "cell_type": "code",
      "metadata": {
        "id": "zZpyCbZTdJuy"
      },
      "source": [
        ""
      ],
      "execution_count": null,
      "outputs": []
    },
    {
      "cell_type": "markdown",
      "metadata": {
        "id": "Wm_zkkBrqR50"
      },
      "source": [
        ""
      ]
    }
  ]
}