{
  "nbformat": 4,
  "nbformat_minor": 0,
  "metadata": {
    "colab": {
      "name": "Accidenct_avoidence.ipynb",
      "provenance": [],
      "collapsed_sections": [],
      "authorship_tag": "ABX9TyPjRQu/7LjbiEBTIVRHTEzG",
      "include_colab_link": true
    },
    "kernelspec": {
      "name": "python3",
      "display_name": "Python 3"
    },
    "language_info": {
      "name": "python"
    },
    "accelerator": "GPU"
  },
  "cells": [
    {
      "cell_type": "markdown",
      "metadata": {
        "id": "view-in-github",
        "colab_type": "text"
      },
      "source": [
        "<a href=\"https://colab.research.google.com/github/HarshaLokesh/Machine_learning_for_intelligent_vehicles/blob/main/Accidenct_avoidence.ipynb\" target=\"_parent\"><img src=\"https://colab.research.google.com/assets/colab-badge.svg\" alt=\"Open In Colab\"/></a>"
      ]
    },
    {
      "cell_type": "code",
      "metadata": {
        "id": "KlWL6iLfnSJS"
      },
      "source": [
        "import os\n",
        "import numpy as np\n",
        "import pandas as pd\n",
        "import tensorflow as tf\n",
        "import math"
      ],
      "execution_count": null,
      "outputs": []
    },
    {
      "cell_type": "code",
      "metadata": {
        "colab": {
          "resources": {
            "http://localhost:8080/nbextensions/google.colab/files.js": {
              "data": "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",
              "ok": true,
              "headers": [
                [
                  "content-type",
                  "application/javascript"
                ]
              ],
              "status": 200,
              "status_text": "OK"
            }
          },
          "base_uri": "https://localhost:8080/",
          "height": 75
        },
        "id": "r2oVdIKCFAGz",
        "outputId": "648e16e4-82e4-4fcf-a8f9-66e1dac07e91"
      },
      "source": [
        "from google.colab import files\n",
        "uploaded = files.upload()"
      ],
      "execution_count": null,
      "outputs": [
        {
          "output_type": "display_data",
          "data": {
            "text/html": [
              "\n",
              "     <input type=\"file\" id=\"files-04ef20e4-75db-4c62-a14c-38112a4fe1ff\" name=\"files[]\" multiple disabled\n",
              "        style=\"border:none\" />\n",
              "     <output id=\"result-04ef20e4-75db-4c62-a14c-38112a4fe1ff\">\n",
              "      Upload widget is only available when the cell has been executed in the\n",
              "      current browser session. Please rerun this cell to enable.\n",
              "      </output>\n",
              "      <script src=\"/nbextensions/google.colab/files.js\"></script> "
            ],
            "text/plain": [
              "<IPython.core.display.HTML object>"
            ]
          },
          "metadata": {}
        },
        {
          "output_type": "stream",
          "name": "stdout",
          "text": [
            "Saving Accident_data.xlsx to Accident_data.xlsx\n"
          ]
        }
      ]
    },
    {
      "cell_type": "code",
      "metadata": {
        "colab": {
          "base_uri": "https://localhost:8080/",
          "height": 452
        },
        "id": "IgezFNTN-PN2",
        "outputId": "0ff0ea91-ebb7-44a5-8440-943deb743218"
      },
      "source": [
        "crash_data = pd.read_excel(\"Accident_data.xlsx\")\n",
        "crash_data.head()"
      ],
      "execution_count": null,
      "outputs": [
        {
          "output_type": "execute_result",
          "data": {
            "text/html": [
              "<div>\n",
              "<style scoped>\n",
              "    .dataframe tbody tr th:only-of-type {\n",
              "        vertical-align: middle;\n",
              "    }\n",
              "\n",
              "    .dataframe tbody tr th {\n",
              "        vertical-align: top;\n",
              "    }\n",
              "\n",
              "    .dataframe thead th {\n",
              "        text-align: right;\n",
              "    }\n",
              "</style>\n",
              "<table border=\"1\" class=\"dataframe\">\n",
              "  <thead>\n",
              "    <tr style=\"text-align: right;\">\n",
              "      <th></th>\n",
              "      <th>POSTED_SPEED_LIMIT</th>\n",
              "      <th>TRAFFIC_CONTROL_DEVICE</th>\n",
              "      <th>WEATHER_CONDITION</th>\n",
              "      <th>LIGHTING_CONDITION</th>\n",
              "      <th>FIRST_CRASH_TYPE</th>\n",
              "      <th>ROADWAY_CONDITION</th>\n",
              "      <th>ROAD_DEFECT</th>\n",
              "      <th>CRASH_TYPE</th>\n",
              "      <th>PRIMARY_CAUSE</th>\n",
              "      <th>MOST_SEVERE_INJURY</th>\n",
              "      <th>CRASH_HOUR</th>\n",
              "      <th>CRASH_DAY_OF_WEEK</th>\n",
              "      <th>CRASH_MONTH</th>\n",
              "      <th>LATITUDE</th>\n",
              "      <th>LONGITUDE</th>\n",
              "      <th>LOCATION</th>\n",
              "    </tr>\n",
              "  </thead>\n",
              "  <tbody>\n",
              "    <tr>\n",
              "      <th>0</th>\n",
              "      <td>35</td>\n",
              "      <td>NO CONTROLS</td>\n",
              "      <td>CLEAR</td>\n",
              "      <td>DAYLIGHT</td>\n",
              "      <td>TURNING</td>\n",
              "      <td>DRY</td>\n",
              "      <td>NO DEFECTS</td>\n",
              "      <td>NO INJURY / DRIVE AWAY</td>\n",
              "      <td>IMPROPER BACKING</td>\n",
              "      <td>1</td>\n",
              "      <td>17</td>\n",
              "      <td>4</td>\n",
              "      <td>7</td>\n",
              "      <td>41.919664</td>\n",
              "      <td>-87.773288</td>\n",
              "      <td>POINT (-87.773287883007 41.919663832993)</td>\n",
              "    </tr>\n",
              "    <tr>\n",
              "      <th>1</th>\n",
              "      <td>35</td>\n",
              "      <td>STOP SIGN/FLASHER</td>\n",
              "      <td>CLEAR</td>\n",
              "      <td>DAYLIGHT</td>\n",
              "      <td>TURNING</td>\n",
              "      <td>DRY</td>\n",
              "      <td>NO DEFECTS</td>\n",
              "      <td>INJURY AND / OR TOW DUE TO CRASH</td>\n",
              "      <td>FAILING TO YIELD RIGHT-OF-WAY</td>\n",
              "      <td>1</td>\n",
              "      <td>16</td>\n",
              "      <td>6</td>\n",
              "      <td>6</td>\n",
              "      <td>41.741804</td>\n",
              "      <td>-87.740954</td>\n",
              "      <td>POINT (-87.740953581987 41.741803598989)</td>\n",
              "    </tr>\n",
              "    <tr>\n",
              "      <th>2</th>\n",
              "      <td>30</td>\n",
              "      <td>TRAFFIC SIGNAL</td>\n",
              "      <td>CLEAR</td>\n",
              "      <td>DAYLIGHT</td>\n",
              "      <td>REAR END</td>\n",
              "      <td>DRY</td>\n",
              "      <td>NO DEFECTS</td>\n",
              "      <td>NO INJURY / DRIVE AWAY</td>\n",
              "      <td>FAILING TO YIELD RIGHT-OF-WAY</td>\n",
              "      <td>1</td>\n",
              "      <td>10</td>\n",
              "      <td>6</td>\n",
              "      <td>7</td>\n",
              "      <td>41.773456</td>\n",
              "      <td>-87.585022</td>\n",
              "      <td>POINT (-87.585022352022 41.773455972008)</td>\n",
              "    </tr>\n",
              "    <tr>\n",
              "      <th>3</th>\n",
              "      <td>30</td>\n",
              "      <td>NO CONTROLS</td>\n",
              "      <td>CLEAR</td>\n",
              "      <td>DARKNESS, LIGHTED ROAD</td>\n",
              "      <td>SIDESWIPE OPPOSITE DIRECTION</td>\n",
              "      <td>DRY</td>\n",
              "      <td>NO DEFECTS</td>\n",
              "      <td>INJURY AND / OR TOW DUE TO CRASH</td>\n",
              "      <td>OPERATING VEHICLE IN ERRATIC, RECKLESS, CARELE...</td>\n",
              "      <td>2</td>\n",
              "      <td>22</td>\n",
              "      <td>6</td>\n",
              "      <td>7</td>\n",
              "      <td>41.880386</td>\n",
              "      <td>-87.725807</td>\n",
              "      <td>POINT (-87.725807044026 41.880385884998)</td>\n",
              "    </tr>\n",
              "    <tr>\n",
              "      <th>4</th>\n",
              "      <td>25</td>\n",
              "      <td>NO CONTROLS</td>\n",
              "      <td>RAIN</td>\n",
              "      <td>DAYLIGHT</td>\n",
              "      <td>ANGLE</td>\n",
              "      <td>WET</td>\n",
              "      <td>NO DEFECTS</td>\n",
              "      <td>NO INJURY / DRIVE AWAY</td>\n",
              "      <td>FAILING TO YIELD RIGHT-OF-WAY</td>\n",
              "      <td>1</td>\n",
              "      <td>11</td>\n",
              "      <td>4</td>\n",
              "      <td>5</td>\n",
              "      <td>41.721290</td>\n",
              "      <td>-87.628510</td>\n",
              "      <td>POINT (-87.628509593966 41.72128957001)</td>\n",
              "    </tr>\n",
              "  </tbody>\n",
              "</table>\n",
              "</div>"
            ],
            "text/plain": [
              "   POSTED_SPEED_LIMIT  ...                                  LOCATION\n",
              "0                  35  ...  POINT (-87.773287883007 41.919663832993)\n",
              "1                  35  ...  POINT (-87.740953581987 41.741803598989)\n",
              "2                  30  ...  POINT (-87.585022352022 41.773455972008)\n",
              "3                  30  ...  POINT (-87.725807044026 41.880385884998)\n",
              "4                  25  ...   POINT (-87.628509593966 41.72128957001)\n",
              "\n",
              "[5 rows x 16 columns]"
            ]
          },
          "metadata": {},
          "execution_count": 5
        }
      ]
    },
    {
      "cell_type": "code",
      "metadata": {
        "colab": {
          "base_uri": "https://localhost:8080/",
          "height": 300
        },
        "id": "nBoHyK8W_R5o",
        "outputId": "7c430b1a-03ee-4a88-d92b-7ed0cc27b663"
      },
      "source": [
        "crash_data.describe()"
      ],
      "execution_count": null,
      "outputs": [
        {
          "output_type": "execute_result",
          "data": {
            "text/html": [
              "<div>\n",
              "<style scoped>\n",
              "    .dataframe tbody tr th:only-of-type {\n",
              "        vertical-align: middle;\n",
              "    }\n",
              "\n",
              "    .dataframe tbody tr th {\n",
              "        vertical-align: top;\n",
              "    }\n",
              "\n",
              "    .dataframe thead th {\n",
              "        text-align: right;\n",
              "    }\n",
              "</style>\n",
              "<table border=\"1\" class=\"dataframe\">\n",
              "  <thead>\n",
              "    <tr style=\"text-align: right;\">\n",
              "      <th></th>\n",
              "      <th>POSTED_SPEED_LIMIT</th>\n",
              "      <th>MOST_SEVERE_INJURY</th>\n",
              "      <th>CRASH_HOUR</th>\n",
              "      <th>CRASH_DAY_OF_WEEK</th>\n",
              "      <th>CRASH_MONTH</th>\n",
              "      <th>LATITUDE</th>\n",
              "      <th>LONGITUDE</th>\n",
              "    </tr>\n",
              "  </thead>\n",
              "  <tbody>\n",
              "    <tr>\n",
              "      <th>count</th>\n",
              "      <td>56736.000000</td>\n",
              "      <td>56736.000000</td>\n",
              "      <td>56736.000000</td>\n",
              "      <td>56736.000000</td>\n",
              "      <td>56736.000000</td>\n",
              "      <td>56736.000000</td>\n",
              "      <td>56736.000000</td>\n",
              "    </tr>\n",
              "    <tr>\n",
              "      <th>mean</th>\n",
              "      <td>29.143613</td>\n",
              "      <td>1.144688</td>\n",
              "      <td>13.468838</td>\n",
              "      <td>4.231599</td>\n",
              "      <td>7.000247</td>\n",
              "      <td>41.842001</td>\n",
              "      <td>-87.670864</td>\n",
              "    </tr>\n",
              "    <tr>\n",
              "      <th>std</th>\n",
              "      <td>6.624081</td>\n",
              "      <td>0.418554</td>\n",
              "      <td>5.462998</td>\n",
              "      <td>2.009780</td>\n",
              "      <td>3.209909</td>\n",
              "      <td>0.082257</td>\n",
              "      <td>0.061495</td>\n",
              "    </tr>\n",
              "    <tr>\n",
              "      <th>min</th>\n",
              "      <td>0.000000</td>\n",
              "      <td>1.000000</td>\n",
              "      <td>0.000000</td>\n",
              "      <td>1.000000</td>\n",
              "      <td>1.000000</td>\n",
              "      <td>41.644670</td>\n",
              "      <td>-87.933994</td>\n",
              "    </tr>\n",
              "    <tr>\n",
              "      <th>25%</th>\n",
              "      <td>30.000000</td>\n",
              "      <td>1.000000</td>\n",
              "      <td>10.000000</td>\n",
              "      <td>2.000000</td>\n",
              "      <td>5.000000</td>\n",
              "      <td>41.772635</td>\n",
              "      <td>-87.714380</td>\n",
              "    </tr>\n",
              "    <tr>\n",
              "      <th>50%</th>\n",
              "      <td>30.000000</td>\n",
              "      <td>1.000000</td>\n",
              "      <td>14.000000</td>\n",
              "      <td>4.000000</td>\n",
              "      <td>7.000000</td>\n",
              "      <td>41.852852</td>\n",
              "      <td>-87.660404</td>\n",
              "    </tr>\n",
              "    <tr>\n",
              "      <th>75%</th>\n",
              "      <td>30.000000</td>\n",
              "      <td>1.000000</td>\n",
              "      <td>17.000000</td>\n",
              "      <td>6.000000</td>\n",
              "      <td>10.000000</td>\n",
              "      <td>41.899765</td>\n",
              "      <td>-87.625284</td>\n",
              "    </tr>\n",
              "    <tr>\n",
              "      <th>max</th>\n",
              "      <td>99.000000</td>\n",
              "      <td>4.000000</td>\n",
              "      <td>23.000000</td>\n",
              "      <td>7.000000</td>\n",
              "      <td>12.000000</td>\n",
              "      <td>42.022780</td>\n",
              "      <td>-87.525075</td>\n",
              "    </tr>\n",
              "  </tbody>\n",
              "</table>\n",
              "</div>"
            ],
            "text/plain": [
              "       POSTED_SPEED_LIMIT  MOST_SEVERE_INJURY  ...      LATITUDE     LONGITUDE\n",
              "count        56736.000000        56736.000000  ...  56736.000000  56736.000000\n",
              "mean            29.143613            1.144688  ...     41.842001    -87.670864\n",
              "std              6.624081            0.418554  ...      0.082257      0.061495\n",
              "min              0.000000            1.000000  ...     41.644670    -87.933994\n",
              "25%             30.000000            1.000000  ...     41.772635    -87.714380\n",
              "50%             30.000000            1.000000  ...     41.852852    -87.660404\n",
              "75%             30.000000            1.000000  ...     41.899765    -87.625284\n",
              "max             99.000000            4.000000  ...     42.022780    -87.525075\n",
              "\n",
              "[8 rows x 7 columns]"
            ]
          },
          "metadata": {},
          "execution_count": 6
        }
      ]
    },
    {
      "cell_type": "code",
      "metadata": {
        "colab": {
          "base_uri": "https://localhost:8080/",
          "height": 297
        },
        "id": "m3sHWPs0CAyM",
        "outputId": "918ab7b4-9c02-4254-9b4e-21be5ca86f35"
      },
      "source": [
        "crash_data.plot(kind=\"scatter\", x=\"LONGITUDE\", y=\"LATITUDE\", alpha=0.01, label=\"ACCIDENTS\")\n"
      ],
      "execution_count": null,
      "outputs": [
        {
          "output_type": "execute_result",
          "data": {
            "text/plain": [
              "<matplotlib.axes._subplots.AxesSubplot at 0x7f22d93b4590>"
            ]
          },
          "metadata": {},
          "execution_count": 7
        },
        {
          "output_type": "display_data",
          "data": {
            "image/png": "[encoded data removed]",
            "text/plain": [
              "<Figure size 432x288 with 1 Axes>"
            ]
          },
          "metadata": {
            "needs_background": "light"
          }
        }
      ]
    },
    {
      "cell_type": "markdown",
      "metadata": {
        "id": "dkx1dLtEJBkH"
      },
      "source": [
        "#Location of accidents with most severity"
      ]
    },
    {
      "cell_type": "code",
      "metadata": {
        "colab": {
          "base_uri": "https://localhost:8080/",
          "height": 439
        },
        "id": "qnWd_ddcUZqj",
        "outputId": "41a1e18a-6b5e-47e9-e443-5442596caefd"
      },
      "source": [
        "import matplotlib.pyplot as plt\n",
        "crash_data.plot(kind=\"scatter\", x=\"LONGITUDE\", y=\"LATITUDE\", alpha=0.4,\n",
        "    label=\"ACCIDENT\",c = \"MOST_SEVERE_INJURY\", figsize=(10,7), colorbar=True)\n"
      ],
      "execution_count": null,
      "outputs": [
        {
          "output_type": "execute_result",
          "data": {
            "text/plain": [
              "<matplotlib.axes._subplots.AxesSubplot at 0x7f22daa3cd50>"
            ]
          },
          "metadata": {},
          "execution_count": 8
        },
        {
          "output_type": "display_data",
          "data": {
            "image/png": "[encoded data removed]",
            "text/plain": [
              "<Figure size 720x504 with 2 Axes>"
            ]
          },
          "metadata": {
            "needs_background": "light"
          }
        }
      ]
    },
    {
      "cell_type": "markdown",
      "metadata": {
        "id": "e3NSlP4IJbX-"
      },
      "source": [
        "#Converting all catogorial data into numerical form"
      ]
    },
    {
      "cell_type": "code",
      "metadata": {
        "colab": {
          "base_uri": "https://localhost:8080/",
          "height": 400
        },
        "id": "TVJbuoTS0y6Y",
        "outputId": "efa1419f-c92d-4528-893a-97f3aa4c16eb"
      },
      "source": [
        "from sklearn.preprocessing import LabelEncoder\n",
        "encoder = LabelEncoder()\n",
        "df = pd.DataFrame(crash_data)\n",
        "df[\"TRAFFIC_CONTROL_DEVICE\"] = encoder.fit_transform(crash_data[\"TRAFFIC_CONTROL_DEVICE\"])\n",
        "df[\"WEATHER_CONDITION\"] = encoder.fit_transform(crash_data[\"WEATHER_CONDITION\"])\n",
        "df[\"LIGHTING_CONDITION\"] = encoder.fit_transform(crash_data[\"LIGHTING_CONDITION\"])\n",
        "df[\"FIRST_CRASH_TYPE\"] = encoder.fit_transform(crash_data[\"FIRST_CRASH_TYPE\"])\n",
        "df[\"ROADWAY_CONDITION\"] = encoder.fit_transform(crash_data[\"ROADWAY_CONDITION\"])\n",
        "df[\"ROAD_DEFECT\"] = encoder.fit_transform(crash_data[\"ROAD_DEFECT\"])\n",
        "df[\"PRIMARY_CAUSE\"] = encoder.fit_transform(crash_data[\"PRIMARY_CAUSE\"]) \n",
        "df[\"CRASH_TYPE\"] = encoder.fit_transform(crash_data[\"CRASH_TYPE\"])\n",
        "df.head()"
      ],
      "execution_count": null,
      "outputs": [
        {
          "output_type": "execute_result",
          "data": {
            "text/html": [
              "<div>\n",
              "<style scoped>\n",
              "    .dataframe tbody tr th:only-of-type {\n",
              "        vertical-align: middle;\n",
              "    }\n",
              "\n",
              "    .dataframe tbody tr th {\n",
              "        vertical-align: top;\n",
              "    }\n",
              "\n",
              "    .dataframe thead th {\n",
              "        text-align: right;\n",
              "    }\n",
              "</style>\n",
              "<table border=\"1\" class=\"dataframe\">\n",
              "  <thead>\n",
              "    <tr style=\"text-align: right;\">\n",
              "      <th></th>\n",
              "      <th>POSTED_SPEED_LIMIT</th>\n",
              "      <th>TRAFFIC_CONTROL_DEVICE</th>\n",
              "      <th>WEATHER_CONDITION</th>\n",
              "      <th>LIGHTING_CONDITION</th>\n",
              "      <th>FIRST_CRASH_TYPE</th>\n",
              "      <th>ROADWAY_CONDITION</th>\n",
              "      <th>ROAD_DEFECT</th>\n",
              "      <th>CRASH_TYPE</th>\n",
              "      <th>PRIMARY_CAUSE</th>\n",
              "      <th>MOST_SEVERE_INJURY</th>\n",
              "      <th>CRASH_HOUR</th>\n",
              "      <th>CRASH_DAY_OF_WEEK</th>\n",
              "      <th>CRASH_MONTH</th>\n",
              "      <th>LATITUDE</th>\n",
              "      <th>LONGITUDE</th>\n",
              "      <th>LOCATION</th>\n",
              "    </tr>\n",
              "  </thead>\n",
              "  <tbody>\n",
              "    <tr>\n",
              "      <th>0</th>\n",
              "      <td>35</td>\n",
              "      <td>4</td>\n",
              "      <td>1</td>\n",
              "      <td>3</td>\n",
              "      <td>17</td>\n",
              "      <td>0</td>\n",
              "      <td>1</td>\n",
              "      <td>1</td>\n",
              "      <td>21</td>\n",
              "      <td>1</td>\n",
              "      <td>17</td>\n",
              "      <td>4</td>\n",
              "      <td>7</td>\n",
              "      <td>41.919664</td>\n",
              "      <td>-87.773288</td>\n",
              "      <td>POINT (-87.773287883007 41.919663832993)</td>\n",
              "    </tr>\n",
              "    <tr>\n",
              "      <th>1</th>\n",
              "      <td>35</td>\n",
              "      <td>15</td>\n",
              "      <td>1</td>\n",
              "      <td>3</td>\n",
              "      <td>17</td>\n",
              "      <td>0</td>\n",
              "      <td>1</td>\n",
              "      <td>0</td>\n",
              "      <td>18</td>\n",
              "      <td>1</td>\n",
              "      <td>16</td>\n",
              "      <td>6</td>\n",
              "      <td>6</td>\n",
              "      <td>41.741804</td>\n",
              "      <td>-87.740954</td>\n",
              "      <td>POINT (-87.740953581987 41.741803598989)</td>\n",
              "    </tr>\n",
              "    <tr>\n",
              "      <th>2</th>\n",
              "      <td>30</td>\n",
              "      <td>16</td>\n",
              "      <td>1</td>\n",
              "      <td>3</td>\n",
              "      <td>10</td>\n",
              "      <td>0</td>\n",
              "      <td>1</td>\n",
              "      <td>1</td>\n",
              "      <td>18</td>\n",
              "      <td>1</td>\n",
              "      <td>10</td>\n",
              "      <td>6</td>\n",
              "      <td>7</td>\n",
              "      <td>41.773456</td>\n",
              "      <td>-87.585022</td>\n",
              "      <td>POINT (-87.585022352022 41.773455972008)</td>\n",
              "    </tr>\n",
              "    <tr>\n",
              "      <th>3</th>\n",
              "      <td>30</td>\n",
              "      <td>4</td>\n",
              "      <td>1</td>\n",
              "      <td>1</td>\n",
              "      <td>14</td>\n",
              "      <td>0</td>\n",
              "      <td>1</td>\n",
              "      <td>0</td>\n",
              "      <td>28</td>\n",
              "      <td>2</td>\n",
              "      <td>22</td>\n",
              "      <td>6</td>\n",
              "      <td>7</td>\n",
              "      <td>41.880386</td>\n",
              "      <td>-87.725807</td>\n",
              "      <td>POINT (-87.725807044026 41.880385884998)</td>\n",
              "    </tr>\n",
              "    <tr>\n",
              "      <th>4</th>\n",
              "      <td>25</td>\n",
              "      <td>4</td>\n",
              "      <td>6</td>\n",
              "      <td>3</td>\n",
              "      <td>0</td>\n",
              "      <td>5</td>\n",
              "      <td>1</td>\n",
              "      <td>1</td>\n",
              "      <td>18</td>\n",
              "      <td>1</td>\n",
              "      <td>11</td>\n",
              "      <td>4</td>\n",
              "      <td>5</td>\n",
              "      <td>41.721290</td>\n",
              "      <td>-87.628510</td>\n",
              "      <td>POINT (-87.628509593966 41.72128957001)</td>\n",
              "    </tr>\n",
              "  </tbody>\n",
              "</table>\n",
              "</div>"
            ],
            "text/plain": [
              "   POSTED_SPEED_LIMIT  ...                                  LOCATION\n",
              "0                  35  ...  POINT (-87.773287883007 41.919663832993)\n",
              "1                  35  ...  POINT (-87.740953581987 41.741803598989)\n",
              "2                  30  ...  POINT (-87.585022352022 41.773455972008)\n",
              "3                  30  ...  POINT (-87.725807044026 41.880385884998)\n",
              "4                  25  ...   POINT (-87.628509593966 41.72128957001)\n",
              "\n",
              "[5 rows x 16 columns]"
            ]
          },
          "metadata": {},
          "execution_count": 9
        }
      ]
    },
    {
      "cell_type": "code",
      "metadata": {
        "colab": {
          "base_uri": "https://localhost:8080/",
          "height": 226
        },
        "id": "0Wvx91B1IYDz",
        "outputId": "67642af8-e86c-4ea1-eaed-65fe77387b4e"
      },
      "source": [
        "df.drop('LOCATION',axis = 1, inplace=True)\n",
        "df.tail()"
      ],
      "execution_count": null,
      "outputs": [
        {
          "output_type": "execute_result",
          "data": {
            "text/html": [
              "<div>\n",
              "<style scoped>\n",
              "    .dataframe tbody tr th:only-of-type {\n",
              "        vertical-align: middle;\n",
              "    }\n",
              "\n",
              "    .dataframe tbody tr th {\n",
              "        vertical-align: top;\n",
              "    }\n",
              "\n",
              "    .dataframe thead th {\n",
              "        text-align: right;\n",
              "    }\n",
              "</style>\n",
              "<table border=\"1\" class=\"dataframe\">\n",
              "  <thead>\n",
              "    <tr style=\"text-align: right;\">\n",
              "      <th></th>\n",
              "      <th>POSTED_SPEED_LIMIT</th>\n",
              "      <th>TRAFFIC_CONTROL_DEVICE</th>\n",
              "      <th>WEATHER_CONDITION</th>\n",
              "      <th>LIGHTING_CONDITION</th>\n",
              "      <th>FIRST_CRASH_TYPE</th>\n",
              "      <th>ROADWAY_CONDITION</th>\n",
              "      <th>ROAD_DEFECT</th>\n",
              "      <th>CRASH_TYPE</th>\n",
              "      <th>PRIMARY_CAUSE</th>\n",
              "      <th>MOST_SEVERE_INJURY</th>\n",
              "      <th>CRASH_HOUR</th>\n",
              "      <th>CRASH_DAY_OF_WEEK</th>\n",
              "      <th>CRASH_MONTH</th>\n",
              "      <th>LATITUDE</th>\n",
              "      <th>LONGITUDE</th>\n",
              "    </tr>\n",
              "  </thead>\n",
              "  <tbody>\n",
              "    <tr>\n",
              "      <th>56731</th>\n",
              "      <td>30</td>\n",
              "      <td>16</td>\n",
              "      <td>6</td>\n",
              "      <td>1</td>\n",
              "      <td>17</td>\n",
              "      <td>5</td>\n",
              "      <td>5</td>\n",
              "      <td>0</td>\n",
              "      <td>18</td>\n",
              "      <td>1</td>\n",
              "      <td>4</td>\n",
              "      <td>3</td>\n",
              "      <td>7</td>\n",
              "      <td>41.823097</td>\n",
              "      <td>-87.685019</td>\n",
              "    </tr>\n",
              "    <tr>\n",
              "      <th>56732</th>\n",
              "      <td>30</td>\n",
              "      <td>16</td>\n",
              "      <td>1</td>\n",
              "      <td>2</td>\n",
              "      <td>15</td>\n",
              "      <td>0</td>\n",
              "      <td>1</td>\n",
              "      <td>0</td>\n",
              "      <td>22</td>\n",
              "      <td>1</td>\n",
              "      <td>6</td>\n",
              "      <td>3</td>\n",
              "      <td>7</td>\n",
              "      <td>41.873185</td>\n",
              "      <td>-87.745147</td>\n",
              "    </tr>\n",
              "    <tr>\n",
              "      <th>56733</th>\n",
              "      <td>40</td>\n",
              "      <td>4</td>\n",
              "      <td>6</td>\n",
              "      <td>2</td>\n",
              "      <td>2</td>\n",
              "      <td>5</td>\n",
              "      <td>1</td>\n",
              "      <td>0</td>\n",
              "      <td>26</td>\n",
              "      <td>1</td>\n",
              "      <td>5</td>\n",
              "      <td>3</td>\n",
              "      <td>7</td>\n",
              "      <td>41.985650</td>\n",
              "      <td>-87.655336</td>\n",
              "    </tr>\n",
              "    <tr>\n",
              "      <th>56734</th>\n",
              "      <td>30</td>\n",
              "      <td>16</td>\n",
              "      <td>1</td>\n",
              "      <td>3</td>\n",
              "      <td>10</td>\n",
              "      <td>0</td>\n",
              "      <td>1</td>\n",
              "      <td>1</td>\n",
              "      <td>19</td>\n",
              "      <td>1</td>\n",
              "      <td>14</td>\n",
              "      <td>3</td>\n",
              "      <td>7</td>\n",
              "      <td>41.773439</td>\n",
              "      <td>-87.566899</td>\n",
              "    </tr>\n",
              "    <tr>\n",
              "      <th>56735</th>\n",
              "      <td>10</td>\n",
              "      <td>4</td>\n",
              "      <td>1</td>\n",
              "      <td>3</td>\n",
              "      <td>7</td>\n",
              "      <td>0</td>\n",
              "      <td>1</td>\n",
              "      <td>1</td>\n",
              "      <td>26</td>\n",
              "      <td>1</td>\n",
              "      <td>18</td>\n",
              "      <td>2</td>\n",
              "      <td>7</td>\n",
              "      <td>41.736965</td>\n",
              "      <td>-87.721652</td>\n",
              "    </tr>\n",
              "  </tbody>\n",
              "</table>\n",
              "</div>"
            ],
            "text/plain": [
              "       POSTED_SPEED_LIMIT  TRAFFIC_CONTROL_DEVICE  ...   LATITUDE  LONGITUDE\n",
              "56731                  30                      16  ...  41.823097 -87.685019\n",
              "56732                  30                      16  ...  41.873185 -87.745147\n",
              "56733                  40                       4  ...  41.985650 -87.655336\n",
              "56734                  30                      16  ...  41.773439 -87.566899\n",
              "56735                  10                       4  ...  41.736965 -87.721652\n",
              "\n",
              "[5 rows x 15 columns]"
            ]
          },
          "metadata": {},
          "execution_count": 10
        }
      ]
    },
    {
      "cell_type": "markdown",
      "metadata": {
        "id": "YffdwsFbJ4Ne"
      },
      "source": [
        "#Classification of the dataset\n"
      ]
    },
    {
      "cell_type": "code",
      "metadata": {
        "colab": {
          "base_uri": "https://localhost:8080/"
        },
        "id": "_QKR9mt3Iv8a",
        "outputId": "82fb3c71-1e39-4268-ebce-5bd09ced6966"
      },
      "source": [
        "X=df.drop('CRASH_TYPE',axis=1).values    \n",
        "y=df['CRASH_TYPE'].values\n",
        "X,y\n"
      ],
      "execution_count": null,
      "outputs": [
        {
          "output_type": "execute_result",
          "data": {
            "text/plain": [
              "(array([[ 35.        ,   4.        ,   1.        , ...,   7.        ,\n",
              "          41.91966383, -87.77328788],\n",
              "        [ 35.        ,  15.        ,   1.        , ...,   6.        ,\n",
              "          41.7418036 , -87.74095358],\n",
              "        [ 30.        ,  16.        ,   1.        , ...,   7.        ,\n",
              "          41.77345597, -87.58502235],\n",
              "        ...,\n",
              "        [ 40.        ,   4.        ,   6.        , ...,   7.        ,\n",
              "          41.9856498 , -87.65533581],\n",
              "        [ 30.        ,  16.        ,   1.        , ...,   7.        ,\n",
              "          41.77343857, -87.56689931],\n",
              "        [ 10.        ,   4.        ,   1.        , ...,   7.        ,\n",
              "          41.73696532, -87.72165212]]), array([1, 0, 1, ..., 0, 1, 1]))"
            ]
          },
          "metadata": {},
          "execution_count": 11
        }
      ]
    },
    {
      "cell_type": "code",
      "metadata": {
        "colab": {
          "base_uri": "https://localhost:8080/"
        },
        "id": "E9Vc4PXrZdBF",
        "outputId": "2367766c-042f-4ef1-cb1a-572d37a933a6"
      },
      "source": [
        "from sklearn.model_selection import train_test_split\n",
        "from sklearn.tree import DecisionTreeClassifier\n",
        "from sklearn.ensemble import RandomForestClassifier\n",
        "from sklearn import metrics\n",
        "X_train, X_test, y_train, y_test = train_test_split(X,y,test_size=0.2,random_state=42)\n",
        "print ('Train set:', X_train.shape,  y_train.shape)\n",
        "print ('Test set:', X_test.shape,  y_test.shape)"
      ],
      "execution_count": null,
      "outputs": [
        {
          "output_type": "stream",
          "name": "stdout",
          "text": [
            "Train set: (45388, 14) (45388,)\n",
            "Test set: (11348, 14) (11348,)\n"
          ]
        }
      ]
    },
    {
      "cell_type": "markdown",
      "metadata": {
        "id": "KoWmezOGfhqd"
      },
      "source": [
        "##RandomForestClassification\n"
      ]
    },
    {
      "cell_type": "code",
      "metadata": {
        "colab": {
          "base_uri": "https://localhost:8080/"
        },
        "id": "5GAGN1jcbwQL",
        "outputId": "013e80d2-483f-4ce0-a654-1044be56bf9d"
      },
      "source": [
        "forest_reg = RandomForestClassifier()\n",
        "forest_reg.fit(X_train, y_train)\n",
        "\n",
        "f1_train = forest_reg.predict(X_train)\n",
        "f1_test = forest_reg.predict(X_test)\n",
        "\n",
        "rfc_train = metrics.f1_score(y_train, f1_train)\n",
        "rfc_test = metrics.f1_score(y_test, f1_test)\n",
        "print('Test Accuracy score: ', metrics.accuracy_score(y_test, f1_test))\n",
        "print('Train F1 score: ', rfc_train)\n",
        "print('Test F1 score: ', rfc_test)\n",
        "\n",
        "\n"
      ],
      "execution_count": null,
      "outputs": [
        {
          "output_type": "stream",
          "name": "stdout",
          "text": [
            "Test Accuracy score:  0.8702855128657032\n",
            "Train F1 score:  0.9999551093088329\n",
            "Test F1 score:  0.9171171171171173\n"
          ]
        }
      ]
    },
    {
      "cell_type": "markdown",
      "metadata": {
        "id": "Sc1b7T6v4gg4"
      },
      "source": [
        "Random test case\n"
      ]
    },
    {
      "cell_type": "code",
      "metadata": {
        "colab": {
          "base_uri": "https://localhost:8080/"
        },
        "id": "1W_aAyOYzcLI",
        "outputId": "27f09b17-de6f-4e2f-c296-2ae966f83948"
      },
      "source": [
        "d = np.array([ 30,          16,          1,           1,           0,\n",
        "    0,        1,           6,           1,          0,\n",
        "    6,       9,          41.87565854, -87.62440494])\n",
        "test_random = forest_reg.predict(d.reshape(1,-1))\n",
        "test_random"
      ],
      "execution_count": null,
      "outputs": [
        {
          "output_type": "execute_result",
          "data": {
            "text/plain": [
              "array([0])"
            ]
          },
          "metadata": {},
          "execution_count": 29
        }
      ]
    },
    {
      "cell_type": "markdown",
      "metadata": {
        "id": "-77K5QIS4qVW"
      },
      "source": [
        "##K nearest neighbours"
      ]
    },
    {
      "cell_type": "code",
      "metadata": {
        "colab": {
          "base_uri": "https://localhost:8080/",
          "height": 422
        },
        "id": "OAqazj2pCcsP",
        "outputId": "4a00cf21-483b-4790-edc4-01591290da9c"
      },
      "source": [
        "from sklearn.neighbors import KNeighborsClassifier\n",
        "acc=[]\n",
        "for i in range(1,40):\n",
        "    neigh = KNeighborsClassifier(n_neighbors = i).fit(X_train,y_train)\n",
        "    yhat = neigh.predict(X_test)\n",
        "    acc.append(metrics.accuracy_score(y_test, yhat))\n",
        "    \n",
        "plt.figure(figsize=(10,6))\n",
        "plt.plot(range(1,40),acc,color = 'blue',linestyle='dashed', \n",
        "         marker='o',markerfacecolor='red', markersize=10)\n",
        "plt.title('accuracy vs. K Value')\n",
        "plt.xlabel('K')\n",
        "plt.ylabel('Accuracy')\n",
        "print(\"Maximum accuracy:-\",max(acc),\"at K =\",acc.index(max(acc)))"
      ],
      "execution_count": null,
      "outputs": [
        {
          "output_type": "stream",
          "name": "stdout",
          "text": [
            "Maximum accuracy:- 0.7859534719774409 at K = 19\n"
          ]
        },
        {
          "output_type": "display_data",
          "data": {
            "image/png": "[encoded data removed]",
            "text/plain": [
              "<Figure size 720x432 with 1 Axes>"
            ]
          },
          "metadata": {
            "needs_background": "light"
          }
        }
      ]
    },
    {
      "cell_type": "code",
      "metadata": {
        "colab": {
          "base_uri": "https://localhost:8080/"
        },
        "id": "MPeAEGdb_JBw",
        "outputId": "e7a872ed-a721-422d-813d-e3bafa53a826"
      },
      "source": [
        "knn = KNeighborsClassifier(n_neighbors = 19).fit(X_train,y_train)\n",
        "\n",
        "f1_train = knn.predict(X_train)\n",
        "f1_test = knn.predict(X_test)\n",
        "\n",
        "knn_train = metrics.f1_score(y_train, f1_train)\n",
        "knn_test = metrics.f1_score(y_test, f1_test)\n",
        "print('Test Accuracy score: ', metrics.accuracy_score(y_test, f1_test))\n",
        "print('Train F1 score: ', knn_train)\n",
        "print('Test F1 score: ', knn_test)\n"
      ],
      "execution_count": null,
      "outputs": [
        {
          "output_type": "stream",
          "name": "stdout",
          "text": [
            "Test Accuracy score:  0.7831335918223475\n",
            "Train F1 score:  0.8727528399691188\n",
            "Test F1 score:  0.8653056756608833\n"
          ]
        }
      ]
    },
    {
      "cell_type": "markdown",
      "metadata": {
        "id": "DIWixU5XHKXH"
      },
      "source": [
        "Random test case\n"
      ]
    },
    {
      "cell_type": "code",
      "metadata": {
        "colab": {
          "base_uri": "https://localhost:8080/"
        },
        "id": "SCPkeiq4EZu5",
        "outputId": "ec632216-46d9-4ad3-83a8-6f2ffc1779d9"
      },
      "source": [
        "d = np.array([ 30,          16,          1,           1,           0,\n",
        "    0,        1,           6,           1,          0,\n",
        "    6,       9,          41.87565854, -87.62440494])\n",
        "test_random = knn.predict(d.reshape(1,-1))\n",
        "test_random"
      ],
      "execution_count": null,
      "outputs": [
        {
          "output_type": "execute_result",
          "data": {
            "text/plain": [
              "array([0])"
            ]
          },
          "metadata": {},
          "execution_count": 30
        }
      ]
    },
    {
      "cell_type": "markdown",
      "metadata": {
        "id": "7y-w3QpDEW8g"
      },
      "source": [
        "##Support vector machines"
      ]
    },
    {
      "cell_type": "code",
      "metadata": {
        "colab": {
          "base_uri": "https://localhost:8080/"
        },
        "id": "BfkxSdWYL5sp",
        "outputId": "1758c289-92e2-45cb-d0cd-daffc401f098"
      },
      "source": [
        "from sklearn.pipeline import Pipeline\n",
        "from sklearn.preprocessing import StandardScaler\n",
        "from sklearn.svm import LinearSVC\n",
        "svm = Pipeline([\n",
        "(\"scaler\", StandardScaler()),\n",
        "(\"linear_svc\", LinearSVC(C=1, loss=\"hinge\")),\n",
        "])\n",
        "svm.fit(X_train,y_train)\n",
        "f1_train = svm.predict(X_train)\n",
        "f1_test = svm.predict(X_test)\n",
        "\n",
        "svm_train = metrics.f1_score(y_train, f1_train)\n",
        "svm_test = metrics.f1_score(y_test, f1_test)\n",
        "print('Test Accuracy score: ', metrics.accuracy_score(y_test, f1_test))\n",
        "print('Train F1 score: ', svm_train)\n",
        "print('Test F1 score: ', svm_test)\n"
      ],
      "execution_count": null,
      "outputs": [
        {
          "output_type": "stream",
          "name": "stdout",
          "text": [
            "Test Accuracy score:  0.8610327811068029\n",
            "Train F1 score:  0.9111086873534384\n",
            "Test F1 score:  0.9141768707482993\n"
          ]
        }
      ]
    },
    {
      "cell_type": "code",
      "metadata": {
        "colab": {
          "base_uri": "https://localhost:8080/"
        },
        "id": "5BCJS5yeANrq",
        "outputId": "296e1db7-4532-4324-ec0b-40d1f4acf085"
      },
      "source": [
        "d = np.array([ 30,          16,          1,           1,           0,\n",
        "    0,        1,           6,           1,          0,\n",
        "    6,       9,          41.87565854, -87.62440494])\n",
        "\n",
        "test_random = svm.predict(d.reshape(1,-1))\n",
        "test_random"
      ],
      "execution_count": null,
      "outputs": [
        {
          "output_type": "execute_result",
          "data": {
            "text/plain": [
              "array([1])"
            ]
          },
          "metadata": {},
          "execution_count": 31
        }
      ]
    },
    {
      "cell_type": "markdown",
      "metadata": {
        "id": "toSdZm02khSa"
      },
      "source": [
        "##Gaussian Naive bayes\n"
      ]
    },
    {
      "cell_type": "code",
      "metadata": {
        "colab": {
          "base_uri": "https://localhost:8080/"
        },
        "id": "6bnGRcKk-AYC",
        "outputId": "cddb5283-29ea-43f2-edbb-9f327c9fca45"
      },
      "source": [
        "from sklearn.naive_bayes import GaussianNB\n",
        "nb = GaussianNB()\n",
        "\n",
        "nb.fit(X_train, y_train)\n",
        "f1_train = nb.predict(X_train)\n",
        "f1_test = nb.predict(X_test)\n",
        "\n",
        "nb_train = metrics.f1_score(y_train, f1_train)\n",
        "nb_test = metrics.f1_score(y_test, f1_test)\n",
        "print('Test Accuracy score: ', metrics.accuracy_score(y_test, f1_test))\n",
        "print('Train F1 score: ', nb_train)\n",
        "print('Test F1 score: ', nb_test)"
      ],
      "execution_count": null,
      "outputs": [
        {
          "output_type": "stream",
          "name": "stdout",
          "text": [
            "Test Accuracy score:  0.8577722946774762\n",
            "Train F1 score:  0.9092848935820977\n",
            "Test F1 score:  0.9118514472965593\n"
          ]
        }
      ]
    },
    {
      "cell_type": "code",
      "metadata": {
        "colab": {
          "base_uri": "https://localhost:8080/"
        },
        "id": "7UGGMG7RoEU1",
        "outputId": "54e16791-8f2d-40bf-af04-1eef64353815"
      },
      "source": [
        "d = np.array([ 30,          16,          1,           1,           0,\n",
        "    0,        1,           6,           1,          0,\n",
        "    6,       9,          41.87565854, -87.62440494])\n",
        "test_random = nb.predict(d.reshape(1,-1))\n",
        "test_random"
      ],
      "execution_count": null,
      "outputs": [
        {
          "output_type": "execute_result",
          "data": {
            "text/plain": [
              "array([1])"
            ]
          },
          "metadata": {},
          "execution_count": 27
        }
      ]
    },
    {
      "cell_type": "markdown",
      "metadata": {
        "id": "6jyOK-evokUj"
      },
      "source": [
        "#Neutral network"
      ]
    },
    {
      "cell_type": "code",
      "metadata": {
        "id": "RvUBElgHoqHt",
        "colab": {
          "base_uri": "https://localhost:8080/"
        },
        "outputId": "65f28b45-952f-4132-c065-03015dca02fd"
      },
      "source": [
        "import tensorflow as tf\n",
        "from tensorflow import keras\n",
        "X_train_full, X_test, y_train_full, y_test = train_test_split(X, y)\n",
        "X_train, X_valid, y_train, y_valid = train_test_split(X_train_full, y_train_full)\n",
        "print(X_test[:3])\n",
        "scaler = StandardScaler()\n",
        "X_train = scaler.fit_transform(X_train)\n",
        "X_valid = scaler.transform(X_valid)\n",
        "X_test = scaler.transform(X_test)\n",
        "print(X_test[:3])\n",
        "\n",
        "input_ = keras.layers.Input(shape=X_train.shape[1:])\n",
        "hidden1 = keras.layers.Dense(30, activation=\"relu\")(input_)\n",
        "hidden2 = keras.layers.Dense(30, activation=\"relu\")(hidden1)\n",
        "concat = keras.layers.Concatenate()([input_, hidden2])\n",
        "output = keras.layers.Dense(1)(concat)\n",
        "model = keras.Model(inputs=[input_], outputs=[output])\n",
        "\n",
        "print(X_train.shape)\n",
        "print(X_valid.shape)\n",
        "print(X_test.shape)\n",
        "\n",
        "model.compile(loss=\"mean_squared_error\", optimizer=\"sgd\",metrics=['accuracy'])\n",
        "history = model.fit(X_train, y_train, epochs=30,validation_data=(X_valid, y_valid))\n",
        "mse_test = model.evaluate(X_test, y_test)"
      ],
      "execution_count": null,
      "outputs": [
        {
          "output_type": "stream",
          "name": "stdout",
          "text": [
            "[[ 30.          16.           1.           4.          17.\n",
            "    0.           1.          19.           1.          16.\n",
            "    3.          11.          41.65912619 -87.55943274]\n",
            " [ 30.           4.           9.           1.           7.\n",
            "    4.           1.          38.           1.          17.\n",
            "    7.           1.          41.68555589 -87.61100289]\n",
            " [ 30.          16.           1.           1.           0.\n",
            "    0.           1.           6.           1.           0.\n",
            "    6.           9.          41.87565854 -87.62440494]]\n",
            "[[ 0.13091451  0.96130928 -0.39188486  1.54921815  1.1817893  -0.45623434\n",
            "  -0.12860934 -0.08814949 -0.34461853  0.45436659 -0.61996082  1.24550199\n",
            "  -2.21883438  1.80683121]\n",
            " [ 0.13091451 -1.07562094  3.75383928 -1.43513316 -0.57590845  1.72999128\n",
            "  -0.12860934  2.83681772 -0.34461853  0.63841542  1.37338271 -1.8685701\n",
            "  -1.89820024  0.97122053]\n",
            " [ 0.13091451  0.96130928 -0.39188486 -1.43513316 -1.80629687 -0.45623434\n",
            "  -0.12860934 -2.08944283 -0.34461853 -2.4904147   0.87504683  0.62268757\n",
            "   0.40804614  0.75406203]]\n",
            "(31914, 14)\n",
            "(10638, 14)\n",
            "(14184, 14)\n",
            "Epoch 1/30\n",
            "998/998 [==============================] - 7s 5ms/step - loss: 0.1592 - accuracy: 0.8338 - val_loss: 0.1295 - val_accuracy: 0.8503\n",
            "Epoch 2/30\n",
            "998/998 [==============================] - 5s 5ms/step - loss: 0.1191 - accuracy: 0.8607 - val_loss: 0.1248 - val_accuracy: 0.8512\n",
            "Epoch 3/30\n",
            "998/998 [==============================] - 4s 4ms/step - loss: 0.1151 - accuracy: 0.8622 - val_loss: 0.1218 - val_accuracy: 0.8529\n",
            "Epoch 4/30\n",
            "998/998 [==============================] - 5s 5ms/step - loss: 0.1129 - accuracy: 0.8644 - val_loss: 0.1194 - val_accuracy: 0.8504\n",
            "Epoch 5/30\n",
            "998/998 [==============================] - 5s 5ms/step - loss: 0.1111 - accuracy: 0.8638 - val_loss: 0.1169 - val_accuracy: 0.8526\n",
            "Epoch 6/30\n",
            "998/998 [==============================] - 4s 4ms/step - loss: 0.1099 - accuracy: 0.8640 - val_loss: 0.1166 - val_accuracy: 0.8539\n",
            "Epoch 7/30\n",
            "998/998 [==============================] - 4s 4ms/step - loss: 0.1087 - accuracy: 0.8655 - val_loss: 0.1163 - val_accuracy: 0.8526\n",
            "Epoch 8/30\n",
            "998/998 [==============================] - 4s 4ms/step - loss: 0.1081 - accuracy: 0.8659 - val_loss: 0.1139 - val_accuracy: 0.8538\n",
            "Epoch 9/30\n",
            "998/998 [==============================] - 5s 5ms/step - loss: 0.1072 - accuracy: 0.8661 - val_loss: 0.1132 - val_accuracy: 0.8572\n",
            "Epoch 10/30\n",
            "998/998 [==============================] - 4s 4ms/step - loss: 0.1067 - accuracy: 0.8657 - val_loss: 0.1131 - val_accuracy: 0.8555\n",
            "Epoch 11/30\n",
            "998/998 [==============================] - 5s 5ms/step - loss: 0.1060 - accuracy: 0.8659 - val_loss: 0.1125 - val_accuracy: 0.8544\n",
            "Epoch 12/30\n",
            "998/998 [==============================] - 5s 5ms/step - loss: 0.1055 - accuracy: 0.8665 - val_loss: 0.1129 - val_accuracy: 0.8560\n",
            "Epoch 13/30\n",
            "998/998 [==============================] - 5s 5ms/step - loss: 0.1052 - accuracy: 0.8664 - val_loss: 0.1111 - val_accuracy: 0.8569\n",
            "Epoch 14/30\n",
            "998/998 [==============================] - 4s 4ms/step - loss: 0.1049 - accuracy: 0.8664 - val_loss: 0.1117 - val_accuracy: 0.8560\n",
            "Epoch 15/30\n",
            "998/998 [==============================] - 4s 4ms/step - loss: 0.1045 - accuracy: 0.8661 - val_loss: 0.1111 - val_accuracy: 0.8566\n",
            "Epoch 16/30\n",
            "998/998 [==============================] - 5s 5ms/step - loss: 0.1043 - accuracy: 0.8667 - val_loss: 0.1099 - val_accuracy: 0.8554\n",
            "Epoch 17/30\n",
            "998/998 [==============================] - 5s 5ms/step - loss: 0.1039 - accuracy: 0.8671 - val_loss: 0.1100 - val_accuracy: 0.8578\n",
            "Epoch 18/30\n",
            "998/998 [==============================] - 4s 4ms/step - loss: 0.1036 - accuracy: 0.8672 - val_loss: 0.1106 - val_accuracy: 0.8563\n",
            "Epoch 19/30\n",
            "998/998 [==============================] - 4s 4ms/step - loss: 0.1034 - accuracy: 0.8671 - val_loss: 0.1102 - val_accuracy: 0.8564\n",
            "Epoch 20/30\n",
            "998/998 [==============================] - 4s 4ms/step - loss: 0.1032 - accuracy: 0.8670 - val_loss: 0.1093 - val_accuracy: 0.8563\n",
            "Epoch 21/30\n",
            "998/998 [==============================] - 5s 5ms/step - loss: 0.1030 - accuracy: 0.8666 - val_loss: 0.1092 - val_accuracy: 0.8571\n",
            "Epoch 22/30\n",
            "998/998 [==============================] - 5s 5ms/step - loss: 0.1029 - accuracy: 0.8674 - val_loss: 0.1091 - val_accuracy: 0.8566\n",
            "Epoch 23/30\n",
            "998/998 [==============================] - 5s 5ms/step - loss: 0.1027 - accuracy: 0.8668 - val_loss: 0.1111 - val_accuracy: 0.8560\n",
            "Epoch 24/30\n",
            "998/998 [==============================] - 5s 5ms/step - loss: 0.1025 - accuracy: 0.8674 - val_loss: 0.1091 - val_accuracy: 0.8568\n",
            "Epoch 25/30\n",
            "998/998 [==============================] - 5s 5ms/step - loss: 0.1023 - accuracy: 0.8674 - val_loss: 0.1088 - val_accuracy: 0.8566\n",
            "Epoch 26/30\n",
            "998/998 [==============================] - 5s 5ms/step - loss: 0.1023 - accuracy: 0.8668 - val_loss: 0.1087 - val_accuracy: 0.8574\n",
            "Epoch 27/30\n",
            "998/998 [==============================] - 4s 4ms/step - loss: 0.1021 - accuracy: 0.8675 - val_loss: 0.1084 - val_accuracy: 0.8580\n",
            "Epoch 28/30\n",
            "998/998 [==============================] - 5s 5ms/step - loss: 0.1019 - accuracy: 0.8679 - val_loss: 0.1086 - val_accuracy: 0.8572\n",
            "Epoch 29/30\n",
            "998/998 [==============================] - 5s 5ms/step - loss: 0.1017 - accuracy: 0.8679 - val_loss: 0.1084 - val_accuracy: 0.8575\n",
            "Epoch 30/30\n",
            "998/998 [==============================] - 5s 5ms/step - loss: 0.1016 - accuracy: 0.8679 - val_loss: 0.1090 - val_accuracy: 0.8584\n",
            "444/444 [==============================] - 1s 3ms/step - loss: 0.1067 - accuracy: 0.8597\n"
          ]
        }
      ]
    },
    {
      "cell_type": "code",
      "metadata": {
        "colab": {
          "base_uri": "https://localhost:8080/"
        },
        "id": "ZnigYJgpBalh",
        "outputId": "fb6e0dcc-8cfe-4525-8a04-955b6c397882"
      },
      "source": [
        "X_new = X_test[:3]\n",
        "y_proba = model.predict(X_new)\n",
        "y_proba.round()"
      ],
      "execution_count": null,
      "outputs": [
        {
          "output_type": "execute_result",
          "data": {
            "text/plain": [
              "array([[1.],\n",
              "       [1.],\n",
              "       [0.]], dtype=float32)"
            ]
          },
          "metadata": {},
          "execution_count": 24
        }
      ]
    }
  ]
}